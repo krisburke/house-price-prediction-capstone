{
 "cells": [
  {
   "cell_type": "markdown",
   "id": "b812c437",
   "metadata": {},
   "source": [
    "# C964 Capstone: House Price Prediction\n",
    "\n",
    "In this Jupyter notebook, we develop a machine learning model for Crestview Realty to predict house prices. The process begins with data exploration and visualizations to understand the dataset, followed by the construction and valuation of various models. Our aim is to identify the most effective model that provides accurate price predictions, for usage within our application.\n"
   ]
  },
  {
   "cell_type": "code",
   "execution_count": null,
   "id": "a5adcb84",
   "metadata": {
    "_cell_guid": "b1076dfc-b9ad-4769-8c92-a6c4dae69d19",
    "_uuid": "8f2839f25d086af736a60e9eeb907d3b93b6e0e5",
    "execution": {
     "iopub.execute_input": "2023-11-30T07:42:02.893291Z",
     "iopub.status.busy": "2023-11-30T07:42:02.892973Z",
     "iopub.status.idle": "2023-11-30T07:42:05.102034Z",
     "shell.execute_reply": "2023-11-30T07:42:05.101058Z"
    },
    "papermill": {
     "duration": 2.233616,
     "end_time": "2023-11-30T07:42:05.104589",
     "exception": false,
     "start_time": "2023-11-30T07:42:02.870973",
     "status": "completed"
    },
    "tags": []
   },
   "outputs": [],
   "source": [
    "# Import libraries\n",
    "import numpy as np\n",
    "import pandas as pd\n",
    "import seaborn as sns\n",
    "from scipy import stats\n",
    "import matplotlib.pyplot as plt\n",
    "from IPython.display import HTML, display\n",
    "from sklearn.compose import ColumnTransformer\n",
    "from sklearn.impute import SimpleImputer\n",
    "from sklearn.metrics import mean_absolute_error, mean_squared_error, make_scorer\n",
    "from sklearn.model_selection import cross_val_score, GridSearchCV\n",
    "from sklearn.pipeline import Pipeline\n",
    "from sklearn.preprocessing import OrdinalEncoder, StandardScaler, OneHotEncoder\n",
    "\n",
    "from sklearn.linear_model import LinearRegression\n",
    "from sklearn.ensemble import RandomForestRegressor\n",
    "from xgboost import XGBRegressor\n",
    "\n",
    "# Read the data\n",
    "X = pd.read_csv('./data/train.csv', index_col='Id')"
   ]
  },
  {
   "cell_type": "markdown",
   "id": "28ba4f14",
   "metadata": {},
   "source": [
    "## Data Exploration\n",
    "\n",
    "In the upcoming section, we begin with data exploration. This initial phase is needed for gaining an understanding of  the dataset's characteristics. We start with basic statistical analysis and examining distributions to gain an initial overview. Additionally, we separate the numerical and categorical variables to analyze these datatypes individually. This is followed by a missing value analysis, important for assessing the data quality. Finally, we focus on outlier detection, utilizing individual scatter plots for each numerical feature to identify anomalies. This approach lays the groundwork for informed data processing and model development in later sections."
   ]
  },
  {
   "cell_type": "markdown",
   "id": "9589e7ac",
   "metadata": {},
   "source": [
    "### Basic Statistical & Distribution Analysis"
   ]
  },
  {
   "cell_type": "code",
   "execution_count": null,
   "id": "ec0d09ea",
   "metadata": {
    "execution": {
     "iopub.execute_input": "2023-11-30T07:42:05.435571Z",
     "iopub.status.busy": "2023-11-30T07:42:05.435196Z",
     "iopub.status.idle": "2023-11-30T07:42:05.454371Z",
     "shell.execute_reply": "2023-11-30T07:42:05.453707Z"
    },
    "papermill": {
     "duration": 0.101856,
     "end_time": "2023-11-30T07:42:05.456123",
     "exception": false,
     "start_time": "2023-11-30T07:42:05.354267",
     "status": "completed"
    },
    "tags": []
   },
   "outputs": [],
   "source": [
    "X.head() # Overview of the data"
   ]
  },
  {
   "cell_type": "code",
   "execution_count": null,
   "id": "fcd917f0",
   "metadata": {
    "execution": {
     "iopub.execute_input": "2023-11-30T07:42:05.247639Z",
     "iopub.status.busy": "2023-11-30T07:42:05.247121Z",
     "iopub.status.idle": "2023-11-30T07:42:05.328477Z",
     "shell.execute_reply": "2023-11-30T07:42:05.327091Z"
    },
    "papermill": {
     "duration": 0.10575,
     "end_time": "2023-11-30T07:42:05.331072",
     "exception": false,
     "start_time": "2023-11-30T07:42:05.225322",
     "status": "completed"
    },
    "tags": []
   },
   "outputs": [],
   "source": [
    "X.describe() # Descriptive statistics for each column"
   ]
  },
  {
   "cell_type": "code",
   "execution_count": null,
   "id": "73df6020",
   "metadata": {},
   "outputs": [],
   "source": [
    "sns.histplot(X, x=X['SalePrice'])"
   ]
  },
  {
   "cell_type": "markdown",
   "id": "44b13cc6",
   "metadata": {},
   "source": [
    "We can see in the graph above that SalePrice is positively skewed. We will likely want to log transform the data since many algorithms assume that the features follow a normal distribution. "
   ]
  },
  {
   "cell_type": "code",
   "execution_count": null,
   "id": "4aaaccfd",
   "metadata": {
    "execution": {
     "iopub.execute_input": "2023-11-30T07:42:05.501319Z",
     "iopub.status.busy": "2023-11-30T07:42:05.500799Z",
     "iopub.status.idle": "2023-11-30T07:42:05.508379Z",
     "shell.execute_reply": "2023-11-30T07:42:05.507341Z"
    },
    "papermill": {
     "duration": 0.032661,
     "end_time": "2023-11-30T07:42:05.510495",
     "exception": false,
     "start_time": "2023-11-30T07:42:05.477834",
     "status": "completed"
    },
    "tags": []
   },
   "outputs": [],
   "source": [
    "# Data types of each column\n",
    "dtypes_html = X.dtypes.to_frame().rename(columns={0: 'Data Type'}).to_html()\n",
    "display(HTML(f\"\"\"\n",
    "<div style=\"max-height: 200px; overflow-y: scroll;\">\n",
    "    {dtypes_html}\n",
    "</div>\n",
    "\"\"\"))"
   ]
  },
  {
   "cell_type": "code",
   "execution_count": null,
   "id": "32d2137a",
   "metadata": {},
   "outputs": [],
   "source": [
    "numerical_df = X.select_dtypes(include=[np.number])\n",
    "categorical_df = X.select_dtypes(include=['object'])"
   ]
  },
  {
   "cell_type": "code",
   "execution_count": null,
   "id": "feda2184",
   "metadata": {},
   "outputs": [],
   "source": [
    "# Number of unique values for each categorical column\n",
    "categorical_df.nunique().to_frame().rename(columns={0: 'Unique values'})"
   ]
  },
  {
   "cell_type": "code",
   "execution_count": null,
   "id": "4fcddc64",
   "metadata": {},
   "outputs": [],
   "source": [
    "# Statistical summary of categorical columns\n",
    "categorical_df.describe()\n"
   ]
  },
  {
   "cell_type": "code",
   "execution_count": null,
   "id": "bacb5fdb",
   "metadata": {},
   "outputs": [],
   "source": [
    "# Histograms for each numerical column\n",
    "numerical_df.hist(bins=50, figsize=(20,15))\n",
    "plt.subplots_adjust(hspace=0.5)\n",
    "plt.show()"
   ]
  },
  {
   "cell_type": "markdown",
   "id": "7805efa4",
   "metadata": {},
   "source": [
    "### Missing Values Analysis"
   ]
  },
  {
   "cell_type": "code",
   "execution_count": null,
   "metadata": {},
   "outputs": [],
   "source": [
    "missing_values = X.isnull().sum().sort_values(ascending=False).where(lambda x: x > 0).dropna()\n",
    "missing_values_html = missing_values.to_frame().rename(columns={0: 'Missing Values'}).to_html()\n",
    "display(HTML(f\"\"\"\n",
    "<div style=\"max-height: 200px; overflow-y: scroll;\">\n",
    "    {missing_values_html}\n",
    "</div>\n",
    "\"\"\"))\n"
   ]
  },
  {
   "cell_type": "markdown",
   "id": "b8aa64aa",
   "metadata": {},
   "source": [
    "Some of these features have a large number of missing values. We will likely drop some of these columns in the data preparation phase."
   ]
  },
  {
   "cell_type": "markdown",
   "id": "d77fbff3",
   "metadata": {},
   "source": [
    "### Outlier Detection"
   ]
  },
  {
   "cell_type": "code",
   "execution_count": null,
   "id": "01478ed9",
   "metadata": {},
   "outputs": [],
   "source": [
    "# Skewness of the numerical columns\n",
    "skew_html = numerical_df.skew().to_frame().to_html()\n",
    "display(HTML(f\"\"\"\n",
    "<div style=\"max-height: 200px; overflow-y: scroll;\">\n",
    "    {skew_html}\n",
    "</div>\n",
    "\"\"\"))"
   ]
  },
  {
   "cell_type": "markdown",
   "id": "d52c704e",
   "metadata": {},
   "source": [
    "Skewness is a measure of the asymmetry of the probability distribution of a real-valued random variable about its mean. It can be useful for understanding the direction and relative magnitude of a dataset's deviation from a normal distribution. In this case, a high number could suggest the presence of outliers, and shows us where we might want to investigate. `MiscVal`, `PoolArea`, `3SsnPorch`, `LotArea`, and `LowQualFinSF` all stand out as having higher values, so we will keep this in mind."
   ]
  },
  {
   "cell_type": "markdown",
   "id": "375c6abc",
   "metadata": {},
   "source": [
    "#### Scatter Plots\n",
    "\n",
    "In the following section, we will plot each of the numerical columns in a scatter plot with the `SalePrice` for visual inspection for outliers. If an outlier is identified, we will run a query to get the ID of that item, and make a note of it. If further investigation is needed, we may also calculate the z-scores for the feature."
   ]
  },
  {
   "cell_type": "code",
   "execution_count": null,
   "id": "e024292a",
   "metadata": {
    "execution": {
     "iopub.execute_input": "2023-11-30T07:42:05.599345Z",
     "iopub.status.busy": "2023-11-30T07:42:05.599029Z",
     "iopub.status.idle": "2023-11-30T07:42:05.842004Z",
     "shell.execute_reply": "2023-11-30T07:42:05.841066Z"
    },
    "papermill": {
     "duration": 0.268344,
     "end_time": "2023-11-30T07:42:05.844110",
     "exception": false,
     "start_time": "2023-11-30T07:42:05.575766",
     "status": "completed"
    },
    "tags": []
   },
   "outputs": [],
   "source": [
    "plt.scatter(x='MSSubClass', y='SalePrice', data=X)"
   ]
  },
  {
   "cell_type": "code",
   "execution_count": null,
   "id": "6f4d8263",
   "metadata": {
    "execution": {
     "iopub.execute_input": "2023-11-30T07:42:05.890296Z",
     "iopub.status.busy": "2023-11-30T07:42:05.889628Z",
     "iopub.status.idle": "2023-11-30T07:42:06.116023Z",
     "shell.execute_reply": "2023-11-30T07:42:06.114939Z"
    },
    "papermill": {
     "duration": 0.251548,
     "end_time": "2023-11-30T07:42:06.118164",
     "exception": false,
     "start_time": "2023-11-30T07:42:05.866616",
     "status": "completed"
    },
    "tags": []
   },
   "outputs": [],
   "source": [
    "plt.scatter(x='LotFrontage', y='SalePrice', data=X)\n",
    "X.query('LotFrontage > 300') # Outliers: 935, 1299"
   ]
  },
  {
   "cell_type": "code",
   "execution_count": null,
   "id": "e2f7e3ed",
   "metadata": {
    "execution": {
     "iopub.execute_input": "2023-11-30T07:42:06.166490Z",
     "iopub.status.busy": "2023-11-30T07:42:06.165907Z",
     "iopub.status.idle": "2023-11-30T07:42:06.366953Z",
     "shell.execute_reply": "2023-11-30T07:42:06.365896Z"
    },
    "papermill": {
     "duration": 0.227524,
     "end_time": "2023-11-30T07:42:06.369026",
     "exception": false,
     "start_time": "2023-11-30T07:42:06.141502",
     "status": "completed"
    },
    "tags": []
   },
   "outputs": [],
   "source": [
    "plt.scatter(x='LotArea', y='SalePrice', data=X)\n",
    "X.query('LotArea > 100000')\n",
    "# Outliers: 250, 314, 336, 707"
   ]
  },
  {
   "cell_type": "code",
   "execution_count": null,
   "id": "bb984ef4",
   "metadata": {},
   "outputs": [],
   "source": [
    "stats.zscore(X['LotArea']).sort_values().tail(10)"
   ]
  },
  {
   "cell_type": "code",
   "execution_count": null,
   "id": "e7edf5c0",
   "metadata": {
    "execution": {
     "iopub.execute_input": "2023-11-30T07:42:06.416461Z",
     "iopub.status.busy": "2023-11-30T07:42:06.416084Z",
     "iopub.status.idle": "2023-11-30T07:42:06.623575Z",
     "shell.execute_reply": "2023-11-30T07:42:06.622675Z"
    },
    "papermill": {
     "duration": 0.233399,
     "end_time": "2023-11-30T07:42:06.625380",
     "exception": false,
     "start_time": "2023-11-30T07:42:06.391981",
     "status": "completed"
    },
    "tags": []
   },
   "outputs": [],
   "source": [
    "plt.scatter(x='OverallQual', y='SalePrice', data=X)\n",
    "X.query('OverallQual == 10 and SalePrice < 200000') # Outliers: 524, 1299"
   ]
  },
  {
   "cell_type": "code",
   "execution_count": null,
   "id": "8b29a185",
   "metadata": {
    "execution": {
     "iopub.execute_input": "2023-11-30T07:42:06.674337Z",
     "iopub.status.busy": "2023-11-30T07:42:06.673676Z",
     "iopub.status.idle": "2023-11-30T07:42:06.914284Z",
     "shell.execute_reply": "2023-11-30T07:42:06.913324Z"
    },
    "papermill": {
     "duration": 0.26711,
     "end_time": "2023-11-30T07:42:06.915962",
     "exception": false,
     "start_time": "2023-11-30T07:42:06.648852",
     "status": "completed"
    },
    "tags": []
   },
   "outputs": [],
   "source": [
    "plt.scatter(x='OverallCond', y='SalePrice', data=X)\n",
    "X.query('OverallCond == 2 and SalePrice > 375000') # Outlier: 379 "
   ]
  },
  {
   "cell_type": "code",
   "execution_count": null,
   "id": "48532ea3",
   "metadata": {
    "execution": {
     "iopub.execute_input": "2023-11-30T07:42:06.967239Z",
     "iopub.status.busy": "2023-11-30T07:42:06.966751Z",
     "iopub.status.idle": "2023-11-30T07:42:07.202962Z",
     "shell.execute_reply": "2023-11-30T07:42:07.201317Z"
    },
    "papermill": {
     "duration": 0.264405,
     "end_time": "2023-11-30T07:42:07.204947",
     "exception": false,
     "start_time": "2023-11-30T07:42:06.940542",
     "status": "completed"
    },
    "tags": []
   },
   "outputs": [],
   "source": [
    "plt.scatter(x='YearBuilt', y='SalePrice', data=X)\n",
    "X.query('YearBuilt < 1900 and SalePrice > 400000') # Outlier: 186"
   ]
  },
  {
   "cell_type": "code",
   "execution_count": null,
   "id": "60750824",
   "metadata": {
    "execution": {
     "iopub.execute_input": "2023-11-30T07:42:07.256124Z",
     "iopub.status.busy": "2023-11-30T07:42:07.255809Z",
     "iopub.status.idle": "2023-11-30T07:42:07.487986Z",
     "shell.execute_reply": "2023-11-30T07:42:07.486506Z"
    },
    "papermill": {
     "duration": 0.26036,
     "end_time": "2023-11-30T07:42:07.490402",
     "exception": false,
     "start_time": "2023-11-30T07:42:07.230042",
     "status": "completed"
    },
    "tags": []
   },
   "outputs": [],
   "source": [
    "plt.scatter(x='YearRemodAdd', y='SalePrice', data=X)\n",
    "X.query('YearRemodAdd < 1970 and SalePrice > 300000') # Potential Outlier: 314"
   ]
  },
  {
   "cell_type": "code",
   "execution_count": null,
   "id": "96c945b7",
   "metadata": {},
   "outputs": [],
   "source": [
    "stats.zscore(X['YearRemodAdd']).sort_values().tail(10)"
   ]
  },
  {
   "cell_type": "code",
   "execution_count": null,
   "id": "a0c7e175",
   "metadata": {
    "execution": {
     "iopub.execute_input": "2023-11-30T07:42:07.543818Z",
     "iopub.status.busy": "2023-11-30T07:42:07.543269Z",
     "iopub.status.idle": "2023-11-30T07:42:07.778596Z",
     "shell.execute_reply": "2023-11-30T07:42:07.777272Z"
    },
    "papermill": {
     "duration": 0.263835,
     "end_time": "2023-11-30T07:42:07.780573",
     "exception": false,
     "start_time": "2023-11-30T07:42:07.516738",
     "status": "completed"
    },
    "tags": []
   },
   "outputs": [],
   "source": [
    "plt.scatter(x='MasVnrArea', y='SalePrice', data=X)\n",
    "X.query('MasVnrArea > 1500') # Outlier: 298"
   ]
  },
  {
   "cell_type": "code",
   "execution_count": null,
   "id": "13552590",
   "metadata": {
    "execution": {
     "iopub.execute_input": "2023-11-30T07:42:07.834866Z",
     "iopub.status.busy": "2023-11-30T07:42:07.834488Z",
     "iopub.status.idle": "2023-11-30T07:42:08.054240Z",
     "shell.execute_reply": "2023-11-30T07:42:08.053237Z"
    },
    "papermill": {
     "duration": 0.249489,
     "end_time": "2023-11-30T07:42:08.056141",
     "exception": false,
     "start_time": "2023-11-30T07:42:07.806652",
     "status": "completed"
    },
    "tags": []
   },
   "outputs": [],
   "source": [
    "plt.scatter(x='BsmtFinSF1', y='SalePrice', data=X)\n",
    "X.query('BsmtFinSF1 > 5000') # Outliers: 1299"
   ]
  },
  {
   "cell_type": "code",
   "execution_count": null,
   "id": "84aa4268",
   "metadata": {
    "execution": {
     "iopub.execute_input": "2023-11-30T07:42:08.110280Z",
     "iopub.status.busy": "2023-11-30T07:42:08.109943Z",
     "iopub.status.idle": "2023-11-30T07:42:08.338837Z",
     "shell.execute_reply": "2023-11-30T07:42:08.337702Z"
    },
    "papermill": {
     "duration": 0.258574,
     "end_time": "2023-11-30T07:42:08.340765",
     "exception": false,
     "start_time": "2023-11-30T07:42:08.082191",
     "status": "completed"
    },
    "tags": []
   },
   "outputs": [],
   "source": [
    "plt.scatter(x='BsmtFinSF2', y='SalePrice', data=X)\n",
    "X.query('BsmtFinSF2 > 1400') # Outlier: 323"
   ]
  },
  {
   "cell_type": "code",
   "execution_count": null,
   "id": "e51566f2",
   "metadata": {},
   "outputs": [],
   "source": [
    "X.query('BsmtFinSF2 > 400 and SalePrice > 500000') # Potential Outlier: 441"
   ]
  },
  {
   "cell_type": "code",
   "execution_count": null,
   "id": "ba33a65f",
   "metadata": {},
   "outputs": [],
   "source": [
    "stats.zscore(X['BsmtFinSF2']).sort_values().tail(15) # there are a lot of higher zscores here"
   ]
  },
  {
   "cell_type": "code",
   "execution_count": null,
   "id": "6c85ef69",
   "metadata": {
    "execution": {
     "iopub.execute_input": "2023-11-30T07:42:08.399275Z",
     "iopub.status.busy": "2023-11-30T07:42:08.398336Z",
     "iopub.status.idle": "2023-11-30T07:42:08.719605Z",
     "shell.execute_reply": "2023-11-30T07:42:08.718603Z"
    },
    "papermill": {
     "duration": 0.352236,
     "end_time": "2023-11-30T07:42:08.721831",
     "exception": false,
     "start_time": "2023-11-30T07:42:08.369595",
     "status": "completed"
    },
    "tags": []
   },
   "outputs": [],
   "source": [
    "plt.scatter(x='TotalBsmtSF', y='SalePrice', data=X)\n",
    "X.query('TotalBsmtSF > 6000') # Outlier: 1299"
   ]
  },
  {
   "cell_type": "code",
   "execution_count": null,
   "id": "0c8a50e3",
   "metadata": {
    "execution": {
     "iopub.execute_input": "2023-11-30T07:42:08.778893Z",
     "iopub.status.busy": "2023-11-30T07:42:08.778530Z",
     "iopub.status.idle": "2023-11-30T07:42:08.986502Z",
     "shell.execute_reply": "2023-11-30T07:42:08.985203Z"
    },
    "papermill": {
     "duration": 0.239147,
     "end_time": "2023-11-30T07:42:08.988514",
     "exception": false,
     "start_time": "2023-11-30T07:42:08.749367",
     "status": "completed"
    },
    "tags": []
   },
   "outputs": [],
   "source": [
    "plt.scatter(x='BsmtUnfSF', y='SalePrice', data=X)\n",
    "stats.zscore(X['BsmtUnfSF']).sort_values().tail(15)"
   ]
  },
  {
   "cell_type": "code",
   "execution_count": null,
   "id": "d1976bba",
   "metadata": {
    "execution": {
     "iopub.execute_input": "2023-11-30T07:42:09.045302Z",
     "iopub.status.busy": "2023-11-30T07:42:09.044993Z",
     "iopub.status.idle": "2023-11-30T07:42:09.246631Z",
     "shell.execute_reply": "2023-11-30T07:42:09.245339Z"
    },
    "papermill": {
     "duration": 0.231988,
     "end_time": "2023-11-30T07:42:09.248444",
     "exception": false,
     "start_time": "2023-11-30T07:42:09.016456",
     "status": "completed"
    },
    "tags": []
   },
   "outputs": [],
   "source": [
    "plt.scatter(x='1stFlrSF', y='SalePrice', data=X)"
   ]
  },
  {
   "cell_type": "code",
   "execution_count": null,
   "id": "8ca0b901",
   "metadata": {
    "execution": {
     "iopub.execute_input": "2023-11-30T07:42:09.305401Z",
     "iopub.status.busy": "2023-11-30T07:42:09.305087Z",
     "iopub.status.idle": "2023-11-30T07:42:09.530047Z",
     "shell.execute_reply": "2023-11-30T07:42:09.529093Z"
    },
    "papermill": {
     "duration": 0.255822,
     "end_time": "2023-11-30T07:42:09.532178",
     "exception": false,
     "start_time": "2023-11-30T07:42:09.276356",
     "status": "completed"
    },
    "tags": []
   },
   "outputs": [],
   "source": [
    "plt.scatter(x='2ndFlrSF', y='SalePrice', data=X)"
   ]
  },
  {
   "cell_type": "code",
   "execution_count": null,
   "id": "4cf20b6d",
   "metadata": {
    "execution": {
     "iopub.execute_input": "2023-11-30T07:42:09.593640Z",
     "iopub.status.busy": "2023-11-30T07:42:09.593290Z",
     "iopub.status.idle": "2023-11-30T07:42:09.826435Z",
     "shell.execute_reply": "2023-11-30T07:42:09.825249Z"
    },
    "papermill": {
     "duration": 0.266536,
     "end_time": "2023-11-30T07:42:09.828390",
     "exception": false,
     "start_time": "2023-11-30T07:42:09.561854",
     "status": "completed"
    },
    "tags": []
   },
   "outputs": [],
   "source": [
    "plt.scatter(x='LowQualFinSF', y='SalePrice', data=X)\n",
    "X.query('LowQualFinSF > 550') # Outlier: 186"
   ]
  },
  {
   "cell_type": "code",
   "execution_count": null,
   "id": "c01a7cfb",
   "metadata": {
    "execution": {
     "iopub.execute_input": "2023-11-30T07:42:09.889131Z",
     "iopub.status.busy": "2023-11-30T07:42:09.888766Z",
     "iopub.status.idle": "2023-11-30T07:42:10.109985Z",
     "shell.execute_reply": "2023-11-30T07:42:10.109132Z"
    },
    "papermill": {
     "duration": 0.25446,
     "end_time": "2023-11-30T07:42:10.112034",
     "exception": false,
     "start_time": "2023-11-30T07:42:09.857574",
     "status": "completed"
    },
    "tags": []
   },
   "outputs": [],
   "source": [
    "plt.scatter(x='GrLivArea', y='SalePrice', data=X)\n",
    "X.query('GrLivArea > 4500 and SalePrice < 250000') # Outliers: 524, 1299"
   ]
  },
  {
   "cell_type": "code",
   "execution_count": null,
   "id": "b84c4e96",
   "metadata": {
    "execution": {
     "iopub.execute_input": "2023-11-30T07:42:10.173943Z",
     "iopub.status.busy": "2023-11-30T07:42:10.173491Z",
     "iopub.status.idle": "2023-11-30T07:42:10.402840Z",
     "shell.execute_reply": "2023-11-30T07:42:10.401780Z"
    },
    "papermill": {
     "duration": 0.262409,
     "end_time": "2023-11-30T07:42:10.404619",
     "exception": false,
     "start_time": "2023-11-30T07:42:10.142210",
     "status": "completed"
    },
    "tags": []
   },
   "outputs": [],
   "source": [
    "plt.scatter(x='BsmtFullBath', y='SalePrice', data=X)\n",
    "X.query('BsmtFullBath == 3') # Outlier: 739"
   ]
  },
  {
   "cell_type": "code",
   "execution_count": null,
   "id": "6f4aab11",
   "metadata": {},
   "outputs": [],
   "source": [
    "stats.zscore(X['BsmtFullBath']).unique()"
   ]
  },
  {
   "cell_type": "code",
   "execution_count": null,
   "id": "d82197ad",
   "metadata": {
    "execution": {
     "iopub.execute_input": "2023-11-30T07:42:10.470656Z",
     "iopub.status.busy": "2023-11-30T07:42:10.470127Z",
     "iopub.status.idle": "2023-11-30T07:42:10.692175Z",
     "shell.execute_reply": "2023-11-30T07:42:10.690849Z"
    },
    "papermill": {
     "duration": 0.258452,
     "end_time": "2023-11-30T07:42:10.694614",
     "exception": false,
     "start_time": "2023-11-30T07:42:10.436162",
     "status": "completed"
    },
    "tags": []
   },
   "outputs": [],
   "source": [
    "plt.scatter(x='BsmtHalfBath', y='SalePrice', data=X)\n",
    "X.query('BsmtHalfBath == 2') "
   ]
  },
  {
   "cell_type": "code",
   "execution_count": null,
   "id": "c70afc97",
   "metadata": {},
   "outputs": [],
   "source": [
    "stats.zscore(X['BsmtHalfBath']).unique() # Outliers: 598, 955 (high zscores)\n"
   ]
  },
  {
   "cell_type": "code",
   "execution_count": null,
   "id": "86d66ac3",
   "metadata": {
    "execution": {
     "iopub.execute_input": "2023-11-30T07:42:10.757443Z",
     "iopub.status.busy": "2023-11-30T07:42:10.757055Z",
     "iopub.status.idle": "2023-11-30T07:42:10.977071Z",
     "shell.execute_reply": "2023-11-30T07:42:10.976048Z"
    },
    "papermill": {
     "duration": 0.254057,
     "end_time": "2023-11-30T07:42:10.979065",
     "exception": false,
     "start_time": "2023-11-30T07:42:10.725008",
     "status": "completed"
    },
    "tags": []
   },
   "outputs": [],
   "source": [
    "plt.scatter(x='FullBath', y='SalePrice', data=X)"
   ]
  },
  {
   "cell_type": "code",
   "execution_count": null,
   "id": "a032ce0a",
   "metadata": {
    "execution": {
     "iopub.execute_input": "2023-11-30T07:42:11.044241Z",
     "iopub.status.busy": "2023-11-30T07:42:11.043876Z",
     "iopub.status.idle": "2023-11-30T07:42:11.264785Z",
     "shell.execute_reply": "2023-11-30T07:42:11.263473Z"
    },
    "papermill": {
     "duration": 0.256757,
     "end_time": "2023-11-30T07:42:11.267399",
     "exception": false,
     "start_time": "2023-11-30T07:42:11.010642",
     "status": "completed"
    },
    "tags": []
   },
   "outputs": [],
   "source": [
    "plt.scatter(x='HalfBath', y='SalePrice', data=X)"
   ]
  },
  {
   "cell_type": "code",
   "execution_count": null,
   "id": "20bc766d",
   "metadata": {
    "execution": {
     "iopub.execute_input": "2023-11-30T07:42:11.333192Z",
     "iopub.status.busy": "2023-11-30T07:42:11.332849Z",
     "iopub.status.idle": "2023-11-30T07:42:11.575772Z",
     "shell.execute_reply": "2023-11-30T07:42:11.574463Z"
    },
    "papermill": {
     "duration": 0.278089,
     "end_time": "2023-11-30T07:42:11.578021",
     "exception": false,
     "start_time": "2023-11-30T07:42:11.299932",
     "status": "completed"
    },
    "tags": []
   },
   "outputs": [],
   "source": [
    "plt.scatter(x='BedroomAbvGr', y='SalePrice', data=X)\n",
    "X.query('BedroomAbvGr == 8') # Outlier: 636"
   ]
  },
  {
   "cell_type": "code",
   "execution_count": null,
   "id": "b7e747d3",
   "metadata": {
    "execution": {
     "iopub.execute_input": "2023-11-30T07:42:11.644374Z",
     "iopub.status.busy": "2023-11-30T07:42:11.644042Z",
     "iopub.status.idle": "2023-11-30T07:42:11.869345Z",
     "shell.execute_reply": "2023-11-30T07:42:11.868162Z"
    },
    "papermill": {
     "duration": 0.262689,
     "end_time": "2023-11-30T07:42:11.872164",
     "exception": false,
     "start_time": "2023-11-30T07:42:11.609475",
     "status": "completed"
    },
    "tags": []
   },
   "outputs": [],
   "source": [
    "plt.scatter(x='KitchenAbvGr', y='SalePrice', data=X)\n",
    "X.query('KitchenAbvGr == 3') # Outliers: 49, 810"
   ]
  },
  {
   "cell_type": "code",
   "execution_count": null,
   "id": "170dc4ca",
   "metadata": {
    "execution": {
     "iopub.execute_input": "2023-11-30T07:42:11.939377Z",
     "iopub.status.busy": "2023-11-30T07:42:11.939047Z",
     "iopub.status.idle": "2023-11-30T07:42:12.171028Z",
     "shell.execute_reply": "2023-11-30T07:42:12.169935Z"
    },
    "papermill": {
     "duration": 0.268149,
     "end_time": "2023-11-30T07:42:12.172932",
     "exception": false,
     "start_time": "2023-11-30T07:42:11.904783",
     "status": "completed"
    },
    "tags": []
   },
   "outputs": [],
   "source": [
    "plt.scatter(x='TotRmsAbvGrd', y='SalePrice', data=X)\n",
    "X.query('TotRmsAbvGrd == 14') # Outlier: 636"
   ]
  },
  {
   "cell_type": "code",
   "execution_count": null,
   "id": "b4cd2851",
   "metadata": {
    "execution": {
     "iopub.execute_input": "2023-11-30T07:42:12.241121Z",
     "iopub.status.busy": "2023-11-30T07:42:12.240739Z",
     "iopub.status.idle": "2023-11-30T07:42:12.463116Z",
     "shell.execute_reply": "2023-11-30T07:42:12.461964Z"
    },
    "papermill": {
     "duration": 0.259263,
     "end_time": "2023-11-30T07:42:12.465222",
     "exception": false,
     "start_time": "2023-11-30T07:42:12.205959",
     "status": "completed"
    },
    "tags": []
   },
   "outputs": [],
   "source": [
    "plt.scatter(x='Fireplaces', y='SalePrice', data=X)\n",
    "stats.zscore(X['Fireplaces']).unique()"
   ]
  },
  {
   "cell_type": "code",
   "execution_count": null,
   "id": "fe201c64",
   "metadata": {
    "execution": {
     "iopub.execute_input": "2023-11-30T07:42:12.532917Z",
     "iopub.status.busy": "2023-11-30T07:42:12.532577Z",
     "iopub.status.idle": "2023-11-30T07:42:12.736912Z",
     "shell.execute_reply": "2023-11-30T07:42:12.735590Z"
    },
    "papermill": {
     "duration": 0.241439,
     "end_time": "2023-11-30T07:42:12.739663",
     "exception": false,
     "start_time": "2023-11-30T07:42:12.498224",
     "status": "completed"
    },
    "tags": []
   },
   "outputs": [],
   "source": [
    "plt.scatter(x='GarageYrBlt', y='SalePrice', data=X)"
   ]
  },
  {
   "cell_type": "code",
   "execution_count": null,
   "id": "8f99a84e",
   "metadata": {
    "execution": {
     "iopub.execute_input": "2023-11-30T07:42:12.808653Z",
     "iopub.status.busy": "2023-11-30T07:42:12.808309Z",
     "iopub.status.idle": "2023-11-30T07:42:13.032956Z",
     "shell.execute_reply": "2023-11-30T07:42:13.031899Z"
    },
    "papermill": {
     "duration": 0.261416,
     "end_time": "2023-11-30T07:42:13.034964",
     "exception": false,
     "start_time": "2023-11-30T07:42:12.773548",
     "status": "completed"
    },
    "tags": []
   },
   "outputs": [],
   "source": [
    "plt.scatter(x='GarageCars', y='SalePrice', data=X)"
   ]
  },
  {
   "cell_type": "code",
   "execution_count": null,
   "id": "b9c41897",
   "metadata": {},
   "outputs": [],
   "source": [
    "stats.zscore(X['GarageCars']).unique()"
   ]
  },
  {
   "cell_type": "code",
   "execution_count": null,
   "id": "baf9f8c3",
   "metadata": {
    "execution": {
     "iopub.execute_input": "2023-11-30T07:42:13.104676Z",
     "iopub.status.busy": "2023-11-30T07:42:13.104309Z",
     "iopub.status.idle": "2023-11-30T07:42:13.331018Z",
     "shell.execute_reply": "2023-11-30T07:42:13.329491Z"
    },
    "papermill": {
     "duration": 0.265027,
     "end_time": "2023-11-30T07:42:13.333909",
     "exception": false,
     "start_time": "2023-11-30T07:42:13.068882",
     "status": "completed"
    },
    "tags": []
   },
   "outputs": [],
   "source": [
    "plt.scatter(x='GarageArea', y='SalePrice', data=X)\n",
    "stats.zscore(X['GarageArea']).sort_values().tail(10)\n",
    "# Outliers: 1299, 582, 1191"
   ]
  },
  {
   "cell_type": "code",
   "execution_count": null,
   "id": "831b4996",
   "metadata": {
    "execution": {
     "iopub.execute_input": "2023-11-30T07:42:13.656111Z",
     "iopub.status.busy": "2023-11-30T07:42:13.655774Z",
     "iopub.status.idle": "2023-11-30T07:42:13.865561Z",
     "shell.execute_reply": "2023-11-30T07:42:13.864648Z"
    },
    "papermill": {
     "duration": 0.249107,
     "end_time": "2023-11-30T07:42:13.867558",
     "exception": false,
     "start_time": "2023-11-30T07:42:13.618451",
     "status": "completed"
    },
    "tags": []
   },
   "outputs": [],
   "source": [
    "plt.scatter(x='WoodDeckSF', y='SalePrice', data=X)\n",
    "stats.zscore(X['WoodDeckSF']).sort_values().tail(10)\n",
    "# Potential Outliers: 54, 1460, 1069"
   ]
  },
  {
   "cell_type": "code",
   "execution_count": null,
   "id": "789b62b5",
   "metadata": {
    "execution": {
     "iopub.execute_input": "2023-11-30T07:42:13.938985Z",
     "iopub.status.busy": "2023-11-30T07:42:13.938643Z",
     "iopub.status.idle": "2023-11-30T07:42:14.146476Z",
     "shell.execute_reply": "2023-11-30T07:42:14.145026Z"
    },
    "papermill": {
     "duration": 0.24663,
     "end_time": "2023-11-30T07:42:14.148750",
     "exception": false,
     "start_time": "2023-11-30T07:42:13.902120",
     "status": "completed"
    },
    "tags": []
   },
   "outputs": [],
   "source": [
    "plt.scatter(x='OpenPorchSF', y='SalePrice', data=X)\n",
    "X.query('OpenPorchSF > 325') \n",
    "# Outliers: 1329, 496, 524, \n",
    "# Potential Outliers: 584, 855"
   ]
  },
  {
   "cell_type": "code",
   "execution_count": null,
   "id": "28581e65",
   "metadata": {},
   "outputs": [],
   "source": [
    "stats.zscore(X['OpenPorchSF']).sort_values().tail(10)"
   ]
  },
  {
   "cell_type": "code",
   "execution_count": null,
   "id": "7cd759c2",
   "metadata": {
    "execution": {
     "iopub.execute_input": "2023-11-30T07:42:14.225601Z",
     "iopub.status.busy": "2023-11-30T07:42:14.224520Z",
     "iopub.status.idle": "2023-11-30T07:42:14.437743Z",
     "shell.execute_reply": "2023-11-30T07:42:14.436792Z"
    },
    "papermill": {
     "duration": 0.253611,
     "end_time": "2023-11-30T07:42:14.439955",
     "exception": false,
     "start_time": "2023-11-30T07:42:14.186344",
     "status": "completed"
    },
    "tags": []
   },
   "outputs": [],
   "source": [
    "plt.scatter(x='EnclosedPorch', y='SalePrice', data=X)\n",
    "X.query('EnclosedPorch > 350') # Outliers: 198\n",
    "# Potential outlier: 748, 1198"
   ]
  },
  {
   "cell_type": "code",
   "execution_count": null,
   "id": "07cea128",
   "metadata": {},
   "outputs": [],
   "source": [
    "stats.zscore(X['EnclosedPorch']).sort_values().tail(10)"
   ]
  },
  {
   "cell_type": "code",
   "execution_count": null,
   "id": "44216a58",
   "metadata": {
    "execution": {
     "iopub.execute_input": "2023-11-30T07:42:14.516052Z",
     "iopub.status.busy": "2023-11-30T07:42:14.515727Z",
     "iopub.status.idle": "2023-11-30T07:42:14.719110Z",
     "shell.execute_reply": "2023-11-30T07:42:14.717883Z"
    },
    "papermill": {
     "duration": 0.244132,
     "end_time": "2023-11-30T07:42:14.721093",
     "exception": false,
     "start_time": "2023-11-30T07:42:14.476961",
     "status": "completed"
    },
    "tags": []
   },
   "outputs": [],
   "source": [
    "plt.scatter(x='3SsnPorch', y='SalePrice', data=X)\n",
    "stats.zscore(X['3SsnPorch']).sort_values().tail(10) \n",
    "# high z-scores here - may use feature engineering to combine with other porch features\n"
   ]
  },
  {
   "cell_type": "code",
   "execution_count": null,
   "id": "941ccc89",
   "metadata": {
    "execution": {
     "iopub.execute_input": "2023-11-30T07:42:14.797914Z",
     "iopub.status.busy": "2023-11-30T07:42:14.797574Z",
     "iopub.status.idle": "2023-11-30T07:42:15.126977Z",
     "shell.execute_reply": "2023-11-30T07:42:15.125816Z"
    },
    "papermill": {
     "duration": 0.370255,
     "end_time": "2023-11-30T07:42:15.129205",
     "exception": false,
     "start_time": "2023-11-30T07:42:14.758950",
     "status": "completed"
    },
    "tags": []
   },
   "outputs": [],
   "source": [
    "plt.scatter(x='ScreenPorch', y='SalePrice', data=X)\n",
    "stats.zscore(X['ScreenPorch']).sort_values().tail(10) # Potential Outliers: 1329, 1387, 186 "
   ]
  },
  {
   "cell_type": "code",
   "execution_count": null,
   "id": "dbe53980",
   "metadata": {
    "execution": {
     "iopub.execute_input": "2023-11-30T07:42:15.211555Z",
     "iopub.status.busy": "2023-11-30T07:42:15.211156Z",
     "iopub.status.idle": "2023-11-30T07:42:15.427583Z",
     "shell.execute_reply": "2023-11-30T07:42:15.426312Z"
    },
    "papermill": {
     "duration": 0.262606,
     "end_time": "2023-11-30T07:42:15.430085",
     "exception": false,
     "start_time": "2023-11-30T07:42:15.167479",
     "status": "completed"
    },
    "tags": []
   },
   "outputs": [],
   "source": [
    "plt.scatter(x='PoolArea', y='SalePrice', data=X)\n",
    "stats.zscore(X['PoolArea']).sort_values().tail(10) # Outliers: 1424, 811, 1171, 1183, 1387, 198, 1299"
   ]
  },
  {
   "cell_type": "markdown",
   "id": "a17398f4",
   "metadata": {},
   "source": [
    "##### Scatter Plot Outlier Detection Results\n",
    "\n",
    "I have compiled a list of outliers and potential outliers for each feature we have plotted and analyzed. This list will be used in the next stage, when we begin data preparation, to remove homes with outliers from our dataset. This identification is subjective, so I've listed additional details as a reminder for later. It's also important to point out that some of these features could be combined using feature engineering into a single feature, and we would want to view the new features and verify that the outliers still exist. The results are as follows:\n",
    "\n",
    "* LotFrontage - 935, 1299\n",
    "* LotArea - 250, 314, 336, 707\n",
    "* OverallQual - 524, 1299\n",
    "* OverallCond - 379\n",
    "* YearBuilt - 186\n",
    "* YearRemodAdd - maybe 314 (leaning no)\n",
    "* MasVnrArea - 298\n",
    "* BsmtFinSF1 - 1299\n",
    "* BsmtFinSF2 - 323, maybe 441 (leaning no)\n",
    "* TotalBsmtSF - 1299\n",
    "* LowQualFinSF - 186\n",
    "* GrLivArea - 524, 1299\n",
    "* BsmtFullBath - 739\n",
    "* BsmtHalfBath - 598, 955 (with only 2, but high z-scores)\n",
    "- BedroomAbvGr - 636\n",
    "- KitchenAbvGr - 49, 810\n",
    "- TotRmsAbvGr - 636\n",
    "- GarageArea - 1299, 582, 1191 (but not that high z-score)\n",
    "- WoodDeckSF - maybe 54, 1460, 1069\n",
    "- OpenPorchSF - 1329, 496, 524, maybe 584, 855\n",
    "- EnclosedPorch -  198, maybe 748, 1198\n",
    "- 3SsnPorch - a lot of high z-scores here, unclear which would be outliers\n",
    "- ScreenPorch - 1329, 1387, 186 \n",
    "- PoolArea - 1424, 811, 1171, 1183, 1387, 198, 1299"
   ]
  },
  {
   "cell_type": "markdown",
   "id": "52e1eb4a",
   "metadata": {},
   "source": [
    "## Data Preparation\n",
    "\n",
    "In this section, we refine our dataset ensuring it is in a clean format ready for modeling. Our first step is to fill in missing values, using strategies to impute or replace them, and subsequently verifying these changes with categorical plots. Features with a high proportion of missing values are considered for removal. Building on our outlier identification from last section, we will now determine which houses to drop from our data based on being outliers. We then perform feature engineering to construct new variables that could enhance our model. Then, we'll check for correlation between features and remove any features that are too closely related, as they can skew the results. Finally, we separate our categorical data columns to be encoded - either ordinal or one-hot encoding."
   ]
  },
  {
   "cell_type": "markdown",
   "id": "941f4a26",
   "metadata": {},
   "source": [
    "### Missing Value Analysis\n",
    "\n",
    "In the previous step, we looked at the number of missing values per feature. Below, we go through each feature that had missing data, use the `unqiue` function to view the current values, and then fill in the missing value -- often with \"None\". Then, we plot the data on a categorical box plot to verify the imputation strategy. A helper function is created to fill the values in the dataset."
   ]
  },
  {
   "cell_type": "code",
   "execution_count": null,
   "id": "fdc317ec",
   "metadata": {
    "execution": {
     "iopub.execute_input": "2023-11-30T07:42:15.949285Z",
     "iopub.status.busy": "2023-11-30T07:42:15.948930Z",
     "iopub.status.idle": "2023-11-30T07:42:15.953843Z",
     "shell.execute_reply": "2023-11-30T07:42:15.953174Z"
    },
    "papermill": {
     "duration": 0.047232,
     "end_time": "2023-11-30T07:42:15.956161",
     "exception": false,
     "start_time": "2023-11-30T07:42:15.908929",
     "status": "completed"
    },
    "tags": []
   },
   "outputs": [],
   "source": [
    "def replace_empty_value(col, value):\n",
    "    \"\"\"Replaces empty in dataset in the provided column \n",
    "    name with the provided value\n",
    "    \n",
    "    col = the column name\n",
    "    value = the replacement value\n",
    "    \"\"\"\n",
    "    X[col].fillna(value, inplace=True)"
   ]
  },
  {
   "cell_type": "code",
   "execution_count": null,
   "id": "5b8d466c",
   "metadata": {
    "execution": {
     "iopub.execute_input": "2023-11-30T07:42:16.034159Z",
     "iopub.status.busy": "2023-11-30T07:42:16.033816Z",
     "iopub.status.idle": "2023-11-30T07:42:16.303989Z",
     "shell.execute_reply": "2023-11-30T07:42:16.303073Z"
    },
    "papermill": {
     "duration": 0.311435,
     "end_time": "2023-11-30T07:42:16.306063",
     "exception": false,
     "start_time": "2023-11-30T07:42:15.994628",
     "status": "completed"
    },
    "tags": []
   },
   "outputs": [],
   "source": [
    "replace_empty_value('PoolQC', 'None')\n",
    "sns.catplot(data=X, x='PoolQC', y='SalePrice', kind='box')"
   ]
  },
  {
   "cell_type": "code",
   "execution_count": null,
   "id": "d81c25e5",
   "metadata": {
    "execution": {
     "iopub.execute_input": "2023-11-30T07:42:16.385791Z",
     "iopub.status.busy": "2023-11-30T07:42:16.385081Z",
     "iopub.status.idle": "2023-11-30T07:42:16.393458Z",
     "shell.execute_reply": "2023-11-30T07:42:16.392304Z"
    },
    "papermill": {
     "duration": 0.051534,
     "end_time": "2023-11-30T07:42:16.396236",
     "exception": false,
     "start_time": "2023-11-30T07:42:16.344702",
     "status": "completed"
    },
    "tags": []
   },
   "outputs": [],
   "source": [
    "X['Alley'].unique()"
   ]
  },
  {
   "cell_type": "code",
   "execution_count": null,
   "id": "0865bb1d",
   "metadata": {
    "execution": {
     "iopub.execute_input": "2023-11-30T07:42:16.477562Z",
     "iopub.status.busy": "2023-11-30T07:42:16.477185Z",
     "iopub.status.idle": "2023-11-30T07:42:16.485038Z",
     "shell.execute_reply": "2023-11-30T07:42:16.483621Z"
    },
    "papermill": {
     "duration": 0.050917,
     "end_time": "2023-11-30T07:42:16.487400",
     "exception": false,
     "start_time": "2023-11-30T07:42:16.436483",
     "status": "completed"
    },
    "tags": []
   },
   "outputs": [],
   "source": [
    "replace_empty_value('Alley', 'None')"
   ]
  },
  {
   "cell_type": "code",
   "execution_count": null,
   "id": "e763f40c",
   "metadata": {
    "execution": {
     "iopub.execute_input": "2023-11-30T07:42:16.568676Z",
     "iopub.status.busy": "2023-11-30T07:42:16.568305Z",
     "iopub.status.idle": "2023-11-30T07:42:16.835590Z",
     "shell.execute_reply": "2023-11-30T07:42:16.834306Z"
    },
    "papermill": {
     "duration": 0.310898,
     "end_time": "2023-11-30T07:42:16.838149",
     "exception": false,
     "start_time": "2023-11-30T07:42:16.527251",
     "status": "completed"
    },
    "tags": []
   },
   "outputs": [],
   "source": [
    "sns.catplot(data=X, x='Alley', y='SalePrice', kind='box')"
   ]
  },
  {
   "cell_type": "code",
   "execution_count": null,
   "id": "3dbc3108",
   "metadata": {
    "execution": {
     "iopub.execute_input": "2023-11-30T07:42:16.919395Z",
     "iopub.status.busy": "2023-11-30T07:42:16.919063Z",
     "iopub.status.idle": "2023-11-30T07:42:17.186015Z",
     "shell.execute_reply": "2023-11-30T07:42:17.185279Z"
    },
    "papermill": {
     "duration": 0.310032,
     "end_time": "2023-11-30T07:42:17.188174",
     "exception": false,
     "start_time": "2023-11-30T07:42:16.878142",
     "status": "completed"
    },
    "tags": []
   },
   "outputs": [],
   "source": [
    "X['Fence'].unique()\n",
    "sns.catplot(data=X, x='Fence', y='SalePrice', kind='box')\n",
    "replace_empty_value('Fence', 'None')"
   ]
  },
  {
   "cell_type": "code",
   "execution_count": null,
   "id": "af50ea68",
   "metadata": {
    "execution": {
     "iopub.execute_input": "2023-11-30T07:42:17.271696Z",
     "iopub.status.busy": "2023-11-30T07:42:17.270486Z",
     "iopub.status.idle": "2023-11-30T07:42:17.540611Z",
     "shell.execute_reply": "2023-11-30T07:42:17.539187Z"
    },
    "papermill": {
     "duration": 0.314286,
     "end_time": "2023-11-30T07:42:17.542871",
     "exception": false,
     "start_time": "2023-11-30T07:42:17.228585",
     "status": "completed"
    },
    "tags": []
   },
   "outputs": [],
   "source": [
    "replace_empty_value('MasVnrType', 'None')\n",
    "replace_empty_value('MasVnrArea', 0)\n",
    "sns.catplot(data=X, x='MasVnrType', y='SalePrice', kind='box')"
   ]
  },
  {
   "cell_type": "code",
   "execution_count": null,
   "id": "d1c6fbac",
   "metadata": {
    "execution": {
     "iopub.execute_input": "2023-11-30T07:42:17.624068Z",
     "iopub.status.busy": "2023-11-30T07:42:17.623746Z",
     "iopub.status.idle": "2023-11-30T07:42:17.629592Z",
     "shell.execute_reply": "2023-11-30T07:42:17.628469Z"
    },
    "papermill": {
     "duration": 0.049141,
     "end_time": "2023-11-30T07:42:17.631590",
     "exception": false,
     "start_time": "2023-11-30T07:42:17.582449",
     "status": "completed"
    },
    "tags": []
   },
   "outputs": [],
   "source": [
    "X['FireplaceQu'].unique()\n",
    "replace_empty_value('FireplaceQu', 'None')"
   ]
  },
  {
   "cell_type": "code",
   "execution_count": null,
   "id": "3f28acde",
   "metadata": {
    "execution": {
     "iopub.execute_input": "2023-11-30T07:42:17.712582Z",
     "iopub.status.busy": "2023-11-30T07:42:17.712251Z",
     "iopub.status.idle": "2023-11-30T07:42:18.013226Z",
     "shell.execute_reply": "2023-11-30T07:42:18.012221Z"
    },
    "papermill": {
     "duration": 0.344503,
     "end_time": "2023-11-30T07:42:18.015370",
     "exception": false,
     "start_time": "2023-11-30T07:42:17.670867",
     "status": "completed"
    },
    "tags": []
   },
   "outputs": [],
   "source": [
    "sns.catplot(data=X, x='FireplaceQu', y='SalePrice', kind='box')"
   ]
  },
  {
   "cell_type": "code",
   "execution_count": null,
   "id": "1b417da9",
   "metadata": {
    "execution": {
     "iopub.execute_input": "2023-11-30T07:42:18.099849Z",
     "iopub.status.busy": "2023-11-30T07:42:18.099511Z",
     "iopub.status.idle": "2023-11-30T07:42:18.105459Z",
     "shell.execute_reply": "2023-11-30T07:42:18.104356Z"
    },
    "papermill": {
     "duration": 0.050896,
     "end_time": "2023-11-30T07:42:18.107703",
     "exception": false,
     "start_time": "2023-11-30T07:42:18.056807",
     "status": "completed"
    },
    "tags": []
   },
   "outputs": [],
   "source": [
    "replace_empty_value('LotFrontage', 0)"
   ]
  },
  {
   "cell_type": "code",
   "execution_count": null,
   "id": "ccfcf26c",
   "metadata": {
    "execution": {
     "iopub.execute_input": "2023-11-30T07:42:18.282791Z",
     "iopub.status.busy": "2023-11-30T07:42:18.282466Z",
     "iopub.status.idle": "2023-11-30T07:42:18.585410Z",
     "shell.execute_reply": "2023-11-30T07:42:18.584549Z"
    },
    "papermill": {
     "duration": 0.347568,
     "end_time": "2023-11-30T07:42:18.587323",
     "exception": false,
     "start_time": "2023-11-30T07:42:18.239755",
     "status": "completed"
    },
    "tags": []
   },
   "outputs": [],
   "source": [
    "X['GarageCond'].unique()\n",
    "replace_empty_value('GarageCond', 'None')\n",
    "sns.catplot(data=X, x='GarageCond', y='SalePrice', kind='box')"
   ]
  },
  {
   "cell_type": "code",
   "execution_count": null,
   "id": "c22055fb",
   "metadata": {
    "execution": {
     "iopub.execute_input": "2023-11-30T07:42:18.669771Z",
     "iopub.status.busy": "2023-11-30T07:42:18.669387Z",
     "iopub.status.idle": "2023-11-30T07:42:18.988365Z",
     "shell.execute_reply": "2023-11-30T07:42:18.987236Z"
    },
    "papermill": {
     "duration": 0.36263,
     "end_time": "2023-11-30T07:42:18.990281",
     "exception": false,
     "start_time": "2023-11-30T07:42:18.627651",
     "status": "completed"
    },
    "tags": []
   },
   "outputs": [],
   "source": [
    "X['GarageType'].unique()\n",
    "replace_empty_value('GarageType', 'None')\n",
    "sns.catplot(data=X, x='GarageType', y='SalePrice', kind='box')"
   ]
  },
  {
   "cell_type": "code",
   "execution_count": null,
   "id": "050e504c",
   "metadata": {
    "execution": {
     "iopub.execute_input": "2023-11-30T07:42:19.073219Z",
     "iopub.status.busy": "2023-11-30T07:42:19.072913Z",
     "iopub.status.idle": "2023-11-30T07:42:19.373137Z",
     "shell.execute_reply": "2023-11-30T07:42:19.371678Z"
    },
    "papermill": {
     "duration": 0.345001,
     "end_time": "2023-11-30T07:42:19.375878",
     "exception": false,
     "start_time": "2023-11-30T07:42:19.030877",
     "status": "completed"
    },
    "tags": []
   },
   "outputs": [],
   "source": [
    "X['GarageQual'].unique()\n",
    "replace_empty_value('GarageQual', 'None')\n",
    "sns.catplot(data=X, x='GarageQual', y='SalePrice', kind='box')"
   ]
  },
  {
   "cell_type": "code",
   "execution_count": null,
   "id": "98396a29",
   "metadata": {
    "execution": {
     "iopub.execute_input": "2023-11-30T07:42:19.470975Z",
     "iopub.status.busy": "2023-11-30T07:42:19.470523Z",
     "iopub.status.idle": "2023-11-30T07:42:19.758321Z",
     "shell.execute_reply": "2023-11-30T07:42:19.757025Z"
    },
    "papermill": {
     "duration": 0.341446,
     "end_time": "2023-11-30T07:42:19.760953",
     "exception": false,
     "start_time": "2023-11-30T07:42:19.419507",
     "status": "completed"
    },
    "tags": []
   },
   "outputs": [],
   "source": [
    "X['GarageFinish'].unique()\n",
    "replace_empty_value('GarageFinish', 'None')\n",
    "sns.catplot(data=X, x='GarageFinish', y='SalePrice', kind='box')"
   ]
  },
  {
   "cell_type": "code",
   "execution_count": null,
   "id": "0218573f",
   "metadata": {
    "execution": {
     "iopub.execute_input": "2023-11-30T07:42:19.848216Z",
     "iopub.status.busy": "2023-11-30T07:42:19.845720Z",
     "iopub.status.idle": "2023-11-30T07:42:20.137091Z",
     "shell.execute_reply": "2023-11-30T07:42:20.135737Z"
    },
    "papermill": {
     "duration": 0.335796,
     "end_time": "2023-11-30T07:42:20.139158",
     "exception": false,
     "start_time": "2023-11-30T07:42:19.803362",
     "status": "completed"
    },
    "tags": []
   },
   "outputs": [],
   "source": [
    "X['BsmtExposure'].unique()\n",
    "replace_empty_value('BsmtExposure', 'None')\n",
    "sns.catplot(data=X, x='BsmtExposure', y='SalePrice', kind='box')"
   ]
  },
  {
   "cell_type": "code",
   "execution_count": null,
   "id": "1499f02f",
   "metadata": {
    "execution": {
     "iopub.execute_input": "2023-11-30T07:42:20.230399Z",
     "iopub.status.busy": "2023-11-30T07:42:20.229146Z",
     "iopub.status.idle": "2023-11-30T07:42:20.551302Z",
     "shell.execute_reply": "2023-11-30T07:42:20.550335Z"
    },
    "papermill": {
     "duration": 0.368997,
     "end_time": "2023-11-30T07:42:20.553266",
     "exception": false,
     "start_time": "2023-11-30T07:42:20.184269",
     "status": "completed"
    },
    "tags": []
   },
   "outputs": [],
   "source": [
    "replace_empty_value('BsmtFinType2', 'None')\n",
    "sns.catplot(data=X, x='BsmtFinType2', y='SalePrice', kind='box')"
   ]
  },
  {
   "cell_type": "code",
   "execution_count": null,
   "id": "acd56f49",
   "metadata": {
    "execution": {
     "iopub.execute_input": "2023-11-30T07:42:20.640081Z",
     "iopub.status.busy": "2023-11-30T07:42:20.639685Z",
     "iopub.status.idle": "2023-11-30T07:42:21.105802Z",
     "shell.execute_reply": "2023-11-30T07:42:21.104577Z"
    },
    "papermill": {
     "duration": 0.51254,
     "end_time": "2023-11-30T07:42:21.108277",
     "exception": false,
     "start_time": "2023-11-30T07:42:20.595737",
     "status": "completed"
    },
    "tags": []
   },
   "outputs": [],
   "source": [
    "replace_empty_value('BsmtFinType1', 'None')\n",
    "sns.catplot(data=X, x='BsmtFinType1', y='SalePrice', kind='box')"
   ]
  },
  {
   "cell_type": "code",
   "execution_count": null,
   "id": "afe0e416",
   "metadata": {
    "execution": {
     "iopub.execute_input": "2023-11-30T07:42:21.197066Z",
     "iopub.status.busy": "2023-11-30T07:42:21.196719Z",
     "iopub.status.idle": "2023-11-30T07:42:21.485819Z",
     "shell.execute_reply": "2023-11-30T07:42:21.485053Z"
    },
    "papermill": {
     "duration": 0.335195,
     "end_time": "2023-11-30T07:42:21.487604",
     "exception": false,
     "start_time": "2023-11-30T07:42:21.152409",
     "status": "completed"
    },
    "tags": []
   },
   "outputs": [],
   "source": [
    "replace_empty_value('BsmtCond', 'None')\n",
    "sns.catplot(data=X, x='BsmtCond', y='SalePrice', kind='box')"
   ]
  },
  {
   "cell_type": "code",
   "execution_count": null,
   "id": "08b00150",
   "metadata": {
    "execution": {
     "iopub.execute_input": "2023-11-30T07:42:21.578394Z",
     "iopub.status.busy": "2023-11-30T07:42:21.577716Z",
     "iopub.status.idle": "2023-11-30T07:42:21.868543Z",
     "shell.execute_reply": "2023-11-30T07:42:21.867902Z"
    },
    "papermill": {
     "duration": 0.338593,
     "end_time": "2023-11-30T07:42:21.870333",
     "exception": false,
     "start_time": "2023-11-30T07:42:21.531740",
     "status": "completed"
    },
    "tags": []
   },
   "outputs": [],
   "source": [
    "replace_empty_value('BsmtQual', 'None')\n",
    "sns.catplot(data=X, x='BsmtQual', y='SalePrice', kind='box')"
   ]
  },
  {
   "cell_type": "code",
   "execution_count": null,
   "id": "dfdc0451",
   "metadata": {
    "execution": {
     "iopub.execute_input": "2023-11-30T07:42:21.964173Z",
     "iopub.status.busy": "2023-11-30T07:42:21.961992Z",
     "iopub.status.idle": "2023-11-30T07:42:22.249726Z",
     "shell.execute_reply": "2023-11-30T07:42:22.249054Z"
    },
    "papermill": {
     "duration": 0.335492,
     "end_time": "2023-11-30T07:42:22.251463",
     "exception": false,
     "start_time": "2023-11-30T07:42:21.915971",
     "status": "completed"
    },
    "tags": []
   },
   "outputs": [],
   "source": [
    "X['Electrical'].unique()\n",
    "sns.catplot(data=X, x='Electrical', y='SalePrice', kind='box')"
   ]
  },
  {
   "cell_type": "markdown",
   "id": "06caa864",
   "metadata": {},
   "source": [
    "Electrical is a bit of a different case, because there is only one value and missing, and presumably all of our homes for sale have some type of electrical system. Below we walk through some steps to replace this value properly."
   ]
  },
  {
   "cell_type": "code",
   "execution_count": null,
   "id": "36796f06",
   "metadata": {},
   "outputs": [],
   "source": [
    "X.query('Electrical.isna()') # Id: 1380 "
   ]
  },
  {
   "cell_type": "code",
   "execution_count": null,
   "id": "201d6058",
   "metadata": {
    "execution": {
     "iopub.execute_input": "2023-11-30T07:42:22.342679Z",
     "iopub.status.busy": "2023-11-30T07:42:22.341330Z",
     "iopub.status.idle": "2023-11-30T07:42:22.348896Z",
     "shell.execute_reply": "2023-11-30T07:42:22.347927Z"
    },
    "papermill": {
     "duration": 0.055886,
     "end_time": "2023-11-30T07:42:22.351293",
     "exception": false,
     "start_time": "2023-11-30T07:42:22.295407",
     "status": "completed"
    },
    "tags": []
   },
   "outputs": [],
   "source": [
    "X['Electrical'].value_counts() # SBrkr is the most common value"
   ]
  },
  {
   "cell_type": "code",
   "execution_count": null,
   "id": "e968c94d",
   "metadata": {
    "execution": {
     "iopub.execute_input": "2023-11-30T07:42:22.446466Z",
     "iopub.status.busy": "2023-11-30T07:42:22.445272Z",
     "iopub.status.idle": "2023-11-30T07:42:22.453991Z",
     "shell.execute_reply": "2023-11-30T07:42:22.453019Z"
    },
    "papermill": {
     "duration": 0.058335,
     "end_time": "2023-11-30T07:42:22.456141",
     "exception": false,
     "start_time": "2023-11-30T07:42:22.397806",
     "status": "completed"
    },
    "tags": []
   },
   "outputs": [],
   "source": [
    "X.loc[1380, 'YearBuilt'] # The home with the missing value was built in 2006\n",
    "\n",
    "# Filling the missing value with SBrkr because all homes built after the 70s seem to have it\n",
    "# After some research, it looks like this type was phased in starting in the 60s\n",
    "# so it's likely that this home has it as well\n",
    "electrical_fill_cond = (pd.to_numeric(X['YearBuilt'], errors='coerce') > 1970) & (X['Electrical'].isna())\n",
    "X.loc[electrical_fill_cond, 'Electrical'] = 'SBrkr'"
   ]
  },
  {
   "cell_type": "markdown",
   "id": "c77fc9bf",
   "metadata": {},
   "source": [
    "Next, we will be dropping some features entirely from our dataset. Sometimes when there's a lot of missing data, it's best not to use the feature, rather than trying to guess how to fill it. Below, we write a helper function for dropping features in both the dataset, and use that to remove features with many missing values. As a reminder, those features were `MiscVal`, `PoolArea`, `3SsnPorch`, `LotArea`, and `LowQualFinSF`. I will remove `MiscVal`, `MiscFeature`, `Alley`, and `Fence` due to the high amount of missing values. The others I will keep for now because I have an idea that I will use them for feature engineering."
   ]
  },
  {
   "cell_type": "code",
   "execution_count": null,
   "id": "ad19e01c",
   "metadata": {
    "execution": {
     "iopub.execute_input": "2023-11-30T07:42:22.639441Z",
     "iopub.status.busy": "2023-11-30T07:42:22.638821Z",
     "iopub.status.idle": "2023-11-30T07:42:22.643723Z",
     "shell.execute_reply": "2023-11-30T07:42:22.642728Z"
    },
    "papermill": {
     "duration": 0.052421,
     "end_time": "2023-11-30T07:42:22.645615",
     "exception": false,
     "start_time": "2023-11-30T07:42:22.593194",
     "status": "completed"
    },
    "tags": []
   },
   "outputs": [],
   "source": [
    "def drop_features(features_to_drop):\n",
    "    \"\"\"\n",
    "    Drops features (columns) from dataset.\n",
    "    \n",
    "    features_to_drop = an array of column names\n",
    "    \"\"\"\n",
    "    global X\n",
    "    X = X.drop(columns=features_to_drop)"
   ]
  },
  {
   "cell_type": "code",
   "execution_count": null,
   "id": "3e9a34b6",
   "metadata": {
    "execution": {
     "iopub.execute_input": "2023-11-30T07:42:22.737808Z",
     "iopub.status.busy": "2023-11-30T07:42:22.737184Z",
     "iopub.status.idle": "2023-11-30T07:42:22.744189Z",
     "shell.execute_reply": "2023-11-30T07:42:22.742910Z"
    },
    "papermill": {
     "duration": 0.056127,
     "end_time": "2023-11-30T07:42:22.746618",
     "exception": false,
     "start_time": "2023-11-30T07:42:22.690491",
     "status": "completed"
    },
    "tags": []
   },
   "outputs": [],
   "source": [
    "drop_features(['MiscFeature', 'MiscVal', 'Alley', 'Fence'])"
   ]
  },
  {
   "cell_type": "markdown",
   "id": "8334417c",
   "metadata": {},
   "source": [
    "### Remove Outliers\n",
    "\n",
    "Using the ids of the outliers we identified during the exploration phase, we will now remove these rows from the dataset. The values that we have chosen are as below. Note that the outliers we have identified as \"maybe\" can be experimented with in future iterations to determine which model performs best in the evaluation phase. "
   ]
  },
  {
   "cell_type": "code",
   "execution_count": null,
   "id": "e548ca63",
   "metadata": {},
   "outputs": [],
   "source": [
    "outlier_ids =  [49, 186, 198, 250, 298, 314, 323, 336, 379, 496, 524, 582, 598, 636, 707, 739, 810, 935, 955, 1191, 1299, 1329]\n",
    "\n",
    "# Remove rows with outliers \n",
    "X.drop(outlier_ids, inplace=True)"
   ]
  },
  {
   "cell_type": "code",
   "execution_count": null,
   "id": "b811f4be",
   "metadata": {},
   "outputs": [],
   "source": [
    "# Remove rows with missing target\n",
    "X.dropna(axis=0, subset=['SalePrice'], inplace=True)"
   ]
  },
  {
   "cell_type": "markdown",
   "id": "6d0535cb",
   "metadata": {
    "papermill": {
     "duration": 0.044101,
     "end_time": "2023-11-30T07:42:22.836008",
     "exception": false,
     "start_time": "2023-11-30T07:42:22.791907",
     "status": "completed"
    },
    "tags": []
   },
   "source": [
    "### Feature Engineering\n",
    "\n",
    "We create a helper function to easily add features to the dataset. Then, using domain knowledge we add features that may correlate with Sale Price. This is an iterative process of feature engineering, and then evaluating the effect on our models' accuracy."
   ]
  },
  {
   "cell_type": "code",
   "execution_count": null,
   "id": "d9b780ea",
   "metadata": {
    "execution": {
     "iopub.execute_input": "2023-11-30T07:42:22.929516Z",
     "iopub.status.busy": "2023-11-30T07:42:22.929109Z",
     "iopub.status.idle": "2023-11-30T07:42:22.934802Z",
     "shell.execute_reply": "2023-11-30T07:42:22.933398Z"
    },
    "papermill": {
     "duration": 0.055706,
     "end_time": "2023-11-30T07:42:22.936767",
     "exception": false,
     "start_time": "2023-11-30T07:42:22.881061",
     "status": "completed"
    },
    "tags": []
   },
   "outputs": [],
   "source": [
    "def add_feature(feature_name, feature_fn):\n",
    "    \"\"\"\n",
    "    Add a new feature to the data\n",
    "    \n",
    "    feature_name = the name of the feature\n",
    "    feature_fn = the function that returns the value, parameter is the dataframe\n",
    "    \n",
    "    ex:\n",
    "    add_feature('HouseAge', lambda df: df['YearSold'] - df['YearBuilt'])\n",
    "    \"\"\"\n",
    "    X[feature_name] = feature_fn(X)"
   ]
  },
  {
   "cell_type": "code",
   "execution_count": null,
   "id": "ad06a036",
   "metadata": {
    "execution": {
     "iopub.execute_input": "2023-11-30T07:42:23.028779Z",
     "iopub.status.busy": "2023-11-30T07:42:23.028463Z",
     "iopub.status.idle": "2023-11-30T07:42:23.035115Z",
     "shell.execute_reply": "2023-11-30T07:42:23.033581Z"
    },
    "papermill": {
     "duration": 0.055458,
     "end_time": "2023-11-30T07:42:23.037072",
     "exception": false,
     "start_time": "2023-11-30T07:42:22.981614",
     "status": "completed"
    },
    "tags": []
   },
   "outputs": [],
   "source": [
    "add_feature('HouseAge', lambda df: df['YrSold'] - df['YearBuilt'])"
   ]
  },
  {
   "cell_type": "code",
   "execution_count": null,
   "id": "e221a129",
   "metadata": {
    "execution": {
     "iopub.execute_input": "2023-11-30T07:42:23.130204Z",
     "iopub.status.busy": "2023-11-30T07:42:23.129211Z",
     "iopub.status.idle": "2023-11-30T07:42:23.135910Z",
     "shell.execute_reply": "2023-11-30T07:42:23.134782Z"
    },
    "papermill": {
     "duration": 0.055236,
     "end_time": "2023-11-30T07:42:23.137608",
     "exception": false,
     "start_time": "2023-11-30T07:42:23.082372",
     "status": "completed"
    },
    "tags": []
   },
   "outputs": [],
   "source": [
    "add_feature('HouseRemodelAge', lambda df: df['YrSold'] - df['YearRemodAdd'])"
   ]
  },
  {
   "cell_type": "code",
   "execution_count": null,
   "id": "44935d13",
   "metadata": {
    "execution": {
     "iopub.execute_input": "2023-11-30T07:42:23.229551Z",
     "iopub.status.busy": "2023-11-30T07:42:23.228912Z",
     "iopub.status.idle": "2023-11-30T07:42:23.235021Z",
     "shell.execute_reply": "2023-11-30T07:42:23.234386Z"
    },
    "papermill": {
     "duration": 0.054257,
     "end_time": "2023-11-30T07:42:23.236721",
     "exception": false,
     "start_time": "2023-11-30T07:42:23.182464",
     "status": "completed"
    },
    "tags": []
   },
   "outputs": [],
   "source": [
    "\n",
    "add_feature('TotalSF', lambda df: df['1stFlrSF'] + df['2ndFlrSF'] + df['BsmtFinSF1'] + df['BsmtFinSF2'])"
   ]
  },
  {
   "cell_type": "code",
   "execution_count": null,
   "id": "8654dd9f",
   "metadata": {
    "execution": {
     "iopub.execute_input": "2023-11-30T07:42:23.331255Z",
     "iopub.status.busy": "2023-11-30T07:42:23.330681Z",
     "iopub.status.idle": "2023-11-30T07:42:23.336339Z",
     "shell.execute_reply": "2023-11-30T07:42:23.335461Z"
    },
    "papermill": {
     "duration": 0.055256,
     "end_time": "2023-11-30T07:42:23.338568",
     "exception": false,
     "start_time": "2023-11-30T07:42:23.283312",
     "status": "completed"
    },
    "tags": []
   },
   "outputs": [],
   "source": [
    "add_feature('TotalArea', lambda df: df['GrLivArea'] + df['TotalBsmtSF'])"
   ]
  },
  {
   "cell_type": "code",
   "execution_count": null,
   "id": "20e2627a",
   "metadata": {
    "execution": {
     "iopub.execute_input": "2023-11-30T07:42:23.434308Z",
     "iopub.status.busy": "2023-11-30T07:42:23.433401Z",
     "iopub.status.idle": "2023-11-30T07:42:23.442126Z",
     "shell.execute_reply": "2023-11-30T07:42:23.441306Z"
    },
    "papermill": {
     "duration": 0.059609,
     "end_time": "2023-11-30T07:42:23.443942",
     "exception": false,
     "start_time": "2023-11-30T07:42:23.384333",
     "status": "completed"
    },
    "tags": []
   },
   "outputs": [],
   "source": [
    "add_feature('TotalBaths', lambda df: df['FullBath'] + df['BsmtFullBath'] + (.5 * df['BsmtHalfBath']) + (.5 * df['HalfBath']))"
   ]
  },
  {
   "cell_type": "code",
   "execution_count": null,
   "id": "80a674bc",
   "metadata": {
    "execution": {
     "iopub.execute_input": "2023-11-30T07:42:23.537780Z",
     "iopub.status.busy": "2023-11-30T07:42:23.536587Z",
     "iopub.status.idle": "2023-11-30T07:42:23.545095Z",
     "shell.execute_reply": "2023-11-30T07:42:23.544046Z"
    },
    "papermill": {
     "duration": 0.057762,
     "end_time": "2023-11-30T07:42:23.547365",
     "exception": false,
     "start_time": "2023-11-30T07:42:23.489603",
     "status": "completed"
    },
    "tags": []
   },
   "outputs": [],
   "source": [
    "add_feature('TotalPorchSF', lambda df: df['OpenPorchSF'] + df['3SsnPorch'] + df['EnclosedPorch'] + df['ScreenPorch'] + df['WoodDeckSF'])"
   ]
  },
  {
   "cell_type": "code",
   "execution_count": null,
   "id": "4f063a59",
   "metadata": {
    "execution": {
     "iopub.execute_input": "2023-11-30T07:42:23.639605Z",
     "iopub.status.busy": "2023-11-30T07:42:23.639256Z",
     "iopub.status.idle": "2023-11-30T07:42:23.647309Z",
     "shell.execute_reply": "2023-11-30T07:42:23.646480Z"
    },
    "papermill": {
     "duration": 0.05591,
     "end_time": "2023-11-30T07:42:23.649287",
     "exception": false,
     "start_time": "2023-11-30T07:42:23.593377",
     "status": "completed"
    },
    "tags": []
   },
   "outputs": [],
   "source": [
    "# Drop the features that were used to create the new features\n",
    "drop_features(['YrSold', 'YearBuilt', 'YearRemodAdd', '1stFlrSF', '2ndFlrSF', 'BsmtFinSF1', 'BsmtFinSF2', 'GrLivArea', 'TotalBsmtSF', 'BsmtFullBath', 'FullBath', 'BsmtHalfBath', 'HalfBath', 'OpenPorchSF', '3SsnPorch', 'EnclosedPorch', 'ScreenPorch', 'WoodDeckSF'])"
   ]
  },
  {
   "cell_type": "markdown",
   "id": "581e28b8",
   "metadata": {},
   "source": [
    "### Feature Correlation Analysis\n",
    "\n",
    "Next, we check for correlations between features, and drop features based on a high correlation with each other. High correlation with SalePrice is good, but high correlation with other features can skew the predictions."
   ]
  },
  {
   "cell_type": "code",
   "execution_count": null,
   "id": "3409903b",
   "metadata": {
    "execution": {
     "iopub.execute_input": "2023-11-30T07:42:23.854586Z",
     "iopub.status.busy": "2023-11-30T07:42:23.853852Z",
     "iopub.status.idle": "2023-11-30T07:42:25.455745Z",
     "shell.execute_reply": "2023-11-30T07:42:25.454663Z"
    },
    "papermill": {
     "duration": 1.658617,
     "end_time": "2023-11-30T07:42:25.458886",
     "exception": false,
     "start_time": "2023-11-30T07:42:23.800269",
     "status": "completed"
    },
    "tags": []
   },
   "outputs": [],
   "source": [
    "correlation_matrix = X.corr(numeric_only=True)\n",
    "plt.figure(figsize=(20, 12))\n",
    "sns.heatmap(correlation_matrix, annot=True, cmap='coolwarm', fmt='.2f')"
   ]
  },
  {
   "cell_type": "code",
   "execution_count": null,
   "id": "f3a3d421",
   "metadata": {},
   "outputs": [],
   "source": [
    "# GarageArea and GarageCars are highly correlated, so we'll drop GarageArea\n",
    "# GarageYrBlt and YearBuilt are highly correlated, so we'll drop GarageYrBlt\n",
    "# GarageCond and GarageQual are highly correlated, so we'll drop GarageCond\n",
    "drop_features([ 'GarageArea', 'GarageYrBlt', 'GarageCond'])"
   ]
  },
  {
   "cell_type": "markdown",
   "id": "767c6376",
   "metadata": {},
   "source": [
    "### Other Data Preparation\n",
    "\n",
    "Earlier we noticed that SalePrice is positively skewed. After log transformation, the distribution of SalePrice appears normal."
   ]
  },
  {
   "cell_type": "code",
   "execution_count": null,
   "id": "ec5dcd07",
   "metadata": {
    "execution": {
     "iopub.execute_input": "2023-11-30T07:42:26.036007Z",
     "iopub.status.busy": "2023-11-30T07:42:26.035627Z",
     "iopub.status.idle": "2023-11-30T07:42:26.041389Z",
     "shell.execute_reply": "2023-11-30T07:42:26.040041Z"
    },
    "papermill": {
     "duration": 0.058477,
     "end_time": "2023-11-30T07:42:26.043834",
     "exception": false,
     "start_time": "2023-11-30T07:42:25.985357",
     "status": "completed"
    },
    "tags": []
   },
   "outputs": [],
   "source": [
    "X['SalePrice'] = np.log1p(X['SalePrice'])\n",
    "sns.histplot(X, x=X['SalePrice'])"
   ]
  },
  {
   "cell_type": "code",
   "execution_count": null,
   "id": "32580a15",
   "metadata": {
    "execution": {
     "iopub.execute_input": "2023-11-30T07:42:23.742385Z",
     "iopub.status.busy": "2023-11-30T07:42:23.741516Z",
     "iopub.status.idle": "2023-11-30T07:42:23.749445Z",
     "shell.execute_reply": "2023-11-30T07:42:23.748583Z"
    },
    "papermill": {
     "duration": 0.056452,
     "end_time": "2023-11-30T07:42:23.751158",
     "exception": false,
     "start_time": "2023-11-30T07:42:23.694706",
     "status": "completed"
    },
    "tags": []
   },
   "outputs": [],
   "source": [
    "# Drop features that could cause data leakage or are not useful\n",
    "drop_features(['SaleType', 'SaleCondition', 'MoSold'])"
   ]
  },
  {
   "cell_type": "markdown",
   "id": "5595e9ba",
   "metadata": {},
   "source": [
    "### Encoding\n",
    "\n",
    "We need to encode our categorical data into numerical formats to make these variables usable by machine learning models. Below we manually sort the categorical data columns to be either one-hot or ordinal encoded. One-hot encoding is used for nominal data where no intrinsic ordering is present, while ordinal preserves the order of categories."
   ]
  },
  {
   "cell_type": "code",
   "execution_count": null,
   "id": "dc1cce5c",
   "metadata": {
    "execution": {
     "iopub.execute_input": "2023-11-30T07:42:26.685052Z",
     "iopub.status.busy": "2023-11-30T07:42:26.684691Z",
     "iopub.status.idle": "2023-11-30T07:42:26.692898Z",
     "shell.execute_reply": "2023-11-30T07:42:26.692121Z"
    },
    "papermill": {
     "duration": 0.062882,
     "end_time": "2023-11-30T07:42:26.694652",
     "exception": false,
     "start_time": "2023-11-30T07:42:26.631770",
     "status": "completed"
    },
    "tags": []
   },
   "outputs": [],
   "source": [
    "with pd.option_context('display.max_seq_items', None):\n",
    "    print(X.dtypes[X.dtypes == 'object'].index.tolist())"
   ]
  },
  {
   "cell_type": "code",
   "execution_count": null,
   "id": "51094a06",
   "metadata": {
    "execution": {
     "iopub.execute_input": "2023-11-30T07:42:26.911614Z",
     "iopub.status.busy": "2023-11-30T07:42:26.911231Z",
     "iopub.status.idle": "2023-11-30T07:42:26.916659Z",
     "shell.execute_reply": "2023-11-30T07:42:26.915271Z"
    },
    "papermill": {
     "duration": 0.059588,
     "end_time": "2023-11-30T07:42:26.919093",
     "exception": false,
     "start_time": "2023-11-30T07:42:26.859505",
     "status": "completed"
    },
    "tags": []
   },
   "outputs": [],
   "source": [
    "# Ordinal \n",
    "ode_cols = ['LotShape', 'LandContour', 'LandSlope', 'ExterQual', 'ExterCond', 'BsmtQual', 'BsmtCond', 'BsmtExposure', 'BsmtFinType1', 'BsmtFinType2', 'HeatingQC', 'KitchenQual', 'Functional', 'FireplaceQu', 'GarageFinish', 'GarageQual', 'PavedDrive', 'PoolQC']"
   ]
  },
  {
   "cell_type": "code",
   "execution_count": null,
   "id": "5d8a2c61",
   "metadata": {
    "execution": {
     "iopub.execute_input": "2023-11-30T07:42:27.019394Z",
     "iopub.status.busy": "2023-11-30T07:42:27.019007Z",
     "iopub.status.idle": "2023-11-30T07:42:27.023966Z",
     "shell.execute_reply": "2023-11-30T07:42:27.022796Z"
    },
    "papermill": {
     "duration": 0.057969,
     "end_time": "2023-11-30T07:42:27.026239",
     "exception": false,
     "start_time": "2023-11-30T07:42:26.968270",
     "status": "completed"
    },
    "tags": []
   },
   "outputs": [],
   "source": [
    "# One hot encoding\n",
    "ohe_cols = ['MSZoning', 'Street', 'Utilities', 'LotConfig', 'Neighborhood', 'Condition1', 'Condition2', 'BldgType', 'HouseStyle', 'RoofStyle', 'RoofMatl',\n",
    "           'Exterior1st', 'Exterior2nd', 'MasVnrType', 'Foundation', 'Heating', 'CentralAir', 'Electrical', 'GarageType']"
   ]
  },
  {
   "cell_type": "code",
   "execution_count": null,
   "id": "42a16b1a",
   "metadata": {
    "execution": {
     "iopub.execute_input": "2023-11-30T07:42:27.127257Z",
     "iopub.status.busy": "2023-11-30T07:42:27.126901Z",
     "iopub.status.idle": "2023-11-30T07:42:27.133032Z",
     "shell.execute_reply": "2023-11-30T07:42:27.131881Z"
    },
    "papermill": {
     "duration": 0.059254,
     "end_time": "2023-11-30T07:42:27.135461",
     "exception": false,
     "start_time": "2023-11-30T07:42:27.076207",
     "status": "completed"
    },
    "tags": []
   },
   "outputs": [],
   "source": [
    "# Numerical columns\n",
    "num_cols = X.select_dtypes(include=['int64', 'float64']).columns\n",
    "num_cols = num_cols.drop('SalePrice')"
   ]
  },
  {
   "cell_type": "markdown",
   "id": "e6302233",
   "metadata": {},
   "source": [
    "## Modeling\n",
    "\n",
    "### Preprocessing\n",
    "\n",
    "Before the actual modeling, we must prepare our data through a series of preprocessing steps to make sure our data is in the correct format for the machine learning algorithms to process it effectively. We start by constructing three preprocessing pipelines. For our numerical data, we implement a pipeline that first fills in any missing values with the mean (using a simple imputer) and then applies standard scaling to normalize the data. For ordinal categorical data we use a pipeline that employs an imputer with the most frequent strategy to handle missing values, followed by an ordinal encoder to convert these categories into a numerical format that preserves their inherent order. For categorical data with no intrinsic order, we create a pipeline that also starts with imputation using the most frequent strategy but then applies one-hot encoding to transform these categories into a binary matrix. With these pipelines in place, we integrate them into a single column transformer that applies each pipeline to its corresponding set of features, as categorized in the previous steps. "
   ]
  },
  {
   "cell_type": "code",
   "execution_count": null,
   "id": "e9fcd9a9",
   "metadata": {
    "execution": {
     "iopub.execute_input": "2023-11-30T07:42:27.336375Z",
     "iopub.status.busy": "2023-11-30T07:42:27.336001Z",
     "iopub.status.idle": "2023-11-30T07:42:27.340388Z",
     "shell.execute_reply": "2023-11-30T07:42:27.339470Z"
    },
    "papermill": {
     "duration": 0.057456,
     "end_time": "2023-11-30T07:42:27.342315",
     "exception": false,
     "start_time": "2023-11-30T07:42:27.284859",
     "status": "completed"
    },
    "tags": []
   },
   "outputs": [],
   "source": [
    "num_pipeline = Pipeline(steps=[\n",
    "    ('impute', SimpleImputer(strategy='mean')),\n",
    "    ('scaler', StandardScaler()),\n",
    "])"
   ]
  },
  {
   "cell_type": "code",
   "execution_count": null,
   "id": "8ee79fbe",
   "metadata": {
    "execution": {
     "iopub.execute_input": "2023-11-30T07:42:27.443819Z",
     "iopub.status.busy": "2023-11-30T07:42:27.443375Z",
     "iopub.status.idle": "2023-11-30T07:42:27.448464Z",
     "shell.execute_reply": "2023-11-30T07:42:27.447486Z"
    },
    "papermill": {
     "duration": 0.057696,
     "end_time": "2023-11-30T07:42:27.450176",
     "exception": false,
     "start_time": "2023-11-30T07:42:27.392480",
     "status": "completed"
    },
    "tags": []
   },
   "outputs": [],
   "source": [
    "ode_pipeline = Pipeline(steps=[\n",
    "    ('impute', SimpleImputer(strategy='most_frequent')),\n",
    "    ('ode', OrdinalEncoder(handle_unknown='use_encoded_value', unknown_value=-1))\n",
    "])"
   ]
  },
  {
   "cell_type": "code",
   "execution_count": null,
   "id": "ad289ddb",
   "metadata": {
    "execution": {
     "iopub.execute_input": "2023-11-30T07:42:27.550227Z",
     "iopub.status.busy": "2023-11-30T07:42:27.549891Z",
     "iopub.status.idle": "2023-11-30T07:42:27.554396Z",
     "shell.execute_reply": "2023-11-30T07:42:27.553497Z"
    },
    "papermill": {
     "duration": 0.057884,
     "end_time": "2023-11-30T07:42:27.556789",
     "exception": false,
     "start_time": "2023-11-30T07:42:27.498905",
     "status": "completed"
    },
    "tags": []
   },
   "outputs": [],
   "source": [
    "ohe_pipeline = Pipeline(steps=[\n",
    "    ('impute', SimpleImputer(strategy='most_frequent')),\n",
    "    ('ohe', OneHotEncoder(handle_unknown='ignore', sparse_output=False))\n",
    "])"
   ]
  },
  {
   "cell_type": "code",
   "execution_count": null,
   "id": "f7015d5d",
   "metadata": {
    "execution": {
     "iopub.execute_input": "2023-11-30T07:42:27.658538Z",
     "iopub.status.busy": "2023-11-30T07:42:27.657975Z",
     "iopub.status.idle": "2023-11-30T07:42:27.662364Z",
     "shell.execute_reply": "2023-11-30T07:42:27.661702Z"
    },
    "papermill": {
     "duration": 0.056974,
     "end_time": "2023-11-30T07:42:27.664369",
     "exception": false,
     "start_time": "2023-11-30T07:42:27.607395",
     "status": "completed"
    },
    "tags": []
   },
   "outputs": [],
   "source": [
    "col_transformer = ColumnTransformer(transformers=[\n",
    "    ('num_pipe', num_pipeline, num_cols),\n",
    "    ('ode_pipe', ode_pipeline, ode_cols),\n",
    "    ('ohe_pipe', ohe_pipeline, ohe_cols)\n",
    "],\n",
    "remainder='passthrough',\n",
    "n_jobs=-1)"
   ]
  },
  {
   "cell_type": "code",
   "execution_count": null,
   "id": "2b648d10",
   "metadata": {
    "execution": {
     "iopub.execute_input": "2023-11-30T07:42:27.768540Z",
     "iopub.status.busy": "2023-11-30T07:42:27.768204Z",
     "iopub.status.idle": "2023-11-30T07:42:27.774016Z",
     "shell.execute_reply": "2023-11-30T07:42:27.773138Z"
    },
    "papermill": {
     "duration": 0.059945,
     "end_time": "2023-11-30T07:42:27.775678",
     "exception": false,
     "start_time": "2023-11-30T07:42:27.715733",
     "status": "completed"
    },
    "tags": []
   },
   "outputs": [],
   "source": [
    "# Separate target from predictors\n",
    "y = X.SalePrice\n",
    "X.drop(['SalePrice'], axis=1, inplace=True)"
   ]
  },
  {
   "cell_type": "markdown",
   "id": "0550e267",
   "metadata": {
    "papermill": {
     "duration": 0.050168,
     "end_time": "2023-11-30T07:42:27.875923",
     "exception": false,
     "start_time": "2023-11-30T07:42:27.825755",
     "status": "completed"
    },
    "tags": []
   },
   "source": [
    "### Build Models\n",
    "\n",
    "In the next phase, we construct machine learning models to predict our target variable. Our primary focus is on two models: RandomForestRegressor and XGBoost. We build a pipeline for the RandomForest model made up of two steps - preprocessing, where our previously defined column transformer is applied, and the actual RandomForest model. We use GridSearchCV to fine-tune the model by finding the best combination of hyperparameters. This process involves cross-validation to make sure the model's performance is generalizable and robust. Following a similar approach, we also apply this pipeline and grid search technique to an XGBoost model. "
   ]
  },
  {
   "cell_type": "code",
   "execution_count": null,
   "id": "67c6baec",
   "metadata": {
    "execution": {
     "iopub.execute_input": "2023-11-30T07:42:31.785713Z",
     "iopub.status.busy": "2023-11-30T07:42:31.784211Z",
     "iopub.status.idle": "2023-11-30T07:42:31.789902Z",
     "shell.execute_reply": "2023-11-30T07:42:31.788770Z"
    },
    "papermill": {
     "duration": 0.059589,
     "end_time": "2023-11-30T07:42:31.791587",
     "exception": false,
     "start_time": "2023-11-30T07:42:31.731998",
     "status": "completed"
    },
    "tags": []
   },
   "outputs": [],
   "source": [
    "rfr_pipeline = Pipeline(steps=[\n",
    "    ('preprocessing', col_transformer),\n",
    "    ('rfr_model', RandomForestRegressor(random_state=13))\n",
    "])\n",
    "\n",
    "param_grid_rfr = {\n",
    "    'rfr_model__max_depth': [5, 10, 15],\n",
    "    'rfr_model__n_estimators': [100, 250, 500],\n",
    "    'rfr_model__min_samples_split': [3, 5, 10]\n",
    "}\n",
    "\n",
    "rfr_cv = GridSearchCV(rfr_pipeline, param_grid_rfr, cv=5, scoring='neg_mean_squared_error', n_jobs=-1)\n",
    "rfr_cv.fit(X, y)"
   ]
  },
  {
   "cell_type": "code",
   "execution_count": null,
   "id": "b3fbd05f",
   "metadata": {
    "execution": {
     "iopub.execute_input": "2023-11-30T07:42:32.006790Z",
     "iopub.status.busy": "2023-11-30T07:42:32.004565Z",
     "iopub.status.idle": "2023-11-30T07:42:36.004964Z",
     "shell.execute_reply": "2023-11-30T07:42:36.003605Z"
    },
    "papermill": {
     "duration": 4.056128,
     "end_time": "2023-11-30T07:42:36.007114",
     "exception": false,
     "start_time": "2023-11-30T07:42:31.950986",
     "status": "completed"
    },
    "tags": []
   },
   "outputs": [],
   "source": [
    "best_rfr_model = rfr_cv.best_estimator_"
   ]
  },
  {
   "cell_type": "code",
   "execution_count": null,
   "id": "627926b5",
   "metadata": {
    "execution": {
     "iopub.execute_input": "2023-11-30T07:42:36.335024Z",
     "iopub.status.busy": "2023-11-30T07:42:36.334408Z",
     "iopub.status.idle": "2023-11-30T07:42:36.338373Z",
     "shell.execute_reply": "2023-11-30T07:42:36.337695Z"
    },
    "papermill": {
     "duration": 0.059782,
     "end_time": "2023-11-30T07:42:36.340065",
     "exception": false,
     "start_time": "2023-11-30T07:42:36.280283",
     "status": "completed"
    },
    "tags": []
   },
   "outputs": [],
   "source": [
    "xgb_pipeline = Pipeline(steps=[\n",
    "    ('preprocessing', col_transformer),\n",
    "    ('xgb_model', XGBRegressor(random_state=13))\n",
    "])\n",
    "\n",
    "param_grid_xgb = {\n",
    "    'xgb_model__learning_rate': [.05, .1, .2],\n",
    "    'xgb_model__n_estimators': [100, 200, 300],\n",
    "    'xgb_model__max_depth': [2, 3, 4],\n",
    "    'xgb_model__min_child_weight': [1, 2, 3],\n",
    "    'xgb_model__gamma': [0, .1, .2],\n",
    "    'xgb_model__subsample': [.8, .9, 1.0],\n",
    "    'xgb_model__colsample_bytree': [.8, .9, 1.0]\n",
    "}\n",
    "\n",
    "xgb_cv = GridSearchCV(xgb_pipeline, param_grid_xgb, cv=5, scoring='neg_mean_squared_error', n_jobs=-1)\n",
    "xgb_cv.fit(X, y)\n"
   ]
  },
  {
   "cell_type": "code",
   "execution_count": null,
   "id": "63ef8131",
   "metadata": {},
   "outputs": [],
   "source": [
    "best_xgb_model = xgb_cv.best_estimator_"
   ]
  },
  {
   "cell_type": "markdown",
   "id": "319e256c",
   "metadata": {},
   "source": [
    "## Evaluation"
   ]
  },
  {
   "cell_type": "code",
   "execution_count": null,
   "id": "800a5c05",
   "metadata": {},
   "outputs": [],
   "source": [
    "mse_scorer = make_scorer(mean_squared_error, greater_is_better=False)\n",
    "mae_scorer = make_scorer(mean_absolute_error, greater_is_better=False)\n",
    "\n",
    "def get_scores(pipeline, n_folds=3):\n",
    "    \"\"\"Return the average MSE and MAE over n_folds CV folds of XGBoost model.\n",
    "    \n",
    "    Keyword argument:\n",
    "    pipeline == a sklearn pipeline\n",
    "    n_folds == the number of CV folds\n",
    "    \"\"\"\n",
    "    mae_scores = -1 * cross_val_score(pipeline, X, y, cv=n_folds, scoring=mae_scorer)\n",
    "    mse_scores = -1 * cross_val_score(pipeline, X, y, cv=n_folds, scoring=mse_scorer)\n",
    "    return {\n",
    "        'mae': mae_scores.mean(),\n",
    "        'mse': mse_scores.mean()\n",
    "    }"
   ]
  },
  {
   "cell_type": "code",
   "execution_count": null,
   "id": "e865589c",
   "metadata": {},
   "outputs": [],
   "source": [
    "get_scores(best_rfr_model)"
   ]
  },
  {
   "cell_type": "code",
   "execution_count": null,
   "id": "d1fc1016",
   "metadata": {},
   "outputs": [],
   "source": [
    "get_scores(best_xgb_model)"
   ]
  },
  {
   "cell_type": "code",
   "execution_count": null,
   "id": "d40b8004",
   "metadata": {},
   "outputs": [],
   "source": [
    "feature_importances = best_xgb_model.named_steps['xgb_model'].feature_importances_\n",
    "transformed_features = best_xgb_model.named_steps['preprocessing'].get_feature_names_out()\n",
    "importances = pd.Series(feature_importances, index=transformed_features)\n",
    "print(importances.sort_values(ascending=False))"
   ]
  },
  {
   "cell_type": "code",
   "execution_count": null,
   "metadata": {},
   "outputs": [],
   "source": [
    "# Number of features to visualize\n",
    "top_n = 25  \n",
    "\n",
    "# Sort importances\n",
    "sorted_importances = importances.sort_values(ascending=False)\n",
    "\n",
    "# Plot top n feature importances\n",
    "plt.figure(figsize=(10, 6))\n",
    "sns.barplot(x=sorted_importances[:top_n], y=sorted_importances.index[:top_n])\n",
    "plt.title('Top Feature Importances')\n",
    "plt.xlabel('Importance Score')\n",
    "plt.ylabel('Features')\n",
    "plt.show()"
   ]
  },
  {
   "cell_type": "code",
   "execution_count": null,
   "id": "f8bee9fe",
   "metadata": {},
   "outputs": [],
   "source": [
    "from joblib import dump\n",
    "\n",
    "dump(best_xgb_model, '../server/house-price.joblib')"
   ]
  }
 ],
 "metadata": {
  "kaggle": {
   "accelerator": "none",
   "dataSources": [
    {
     "databundleVersionId": 868283,
     "sourceId": 5407,
     "sourceType": "competition"
    }
   ],
   "dockerImageVersionId": 30587,
   "isGpuEnabled": false,
   "isInternetEnabled": true,
   "language": "python",
   "sourceType": "notebook"
  },
  "kernelspec": {
   "display_name": "Python 3",
   "language": "python",
   "name": "python3"
  },
  "language_info": {
   "codemirror_mode": {
    "name": "ipython",
    "version": 3
   },
   "file_extension": ".py",
   "mimetype": "text/x-python",
   "name": "python",
   "nbconvert_exporter": "python",
   "pygments_lexer": "ipython3",
   "version": "3.9.18"
  },
  "papermill": {
   "default_parameters": {},
   "duration": 40.68743,
   "end_time": "2023-11-30T07:42:41.013668",
   "environment_variables": {},
   "exception": null,
   "input_path": "__notebook__.ipynb",
   "output_path": "__notebook__.ipynb",
   "parameters": {},
   "start_time": "2023-11-30T07:42:00.326238",
   "version": "2.4.0"
  }
 },
 "nbformat": 4,
 "nbformat_minor": 5
}
