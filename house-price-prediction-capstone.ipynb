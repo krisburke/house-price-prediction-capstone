{
 "cells": [
  {
   "cell_type": "code",
   "execution_count": 1,
   "id": "a3570756",
   "metadata": {
    "_cell_guid": "b1076dfc-b9ad-4769-8c92-a6c4dae69d19",
    "_uuid": "8f2839f25d086af736a60e9eeb907d3b93b6e0e5",
    "execution": {
     "iopub.execute_input": "2023-11-28T20:58:37.737281Z",
     "iopub.status.busy": "2023-11-28T20:58:37.736386Z",
     "iopub.status.idle": "2023-11-28T20:58:39.805807Z",
     "shell.execute_reply": "2023-11-28T20:58:39.804458Z"
    },
    "papermill": {
     "duration": 2.076907,
     "end_time": "2023-11-28T20:58:39.808798",
     "exception": false,
     "start_time": "2023-11-28T20:58:37.731891",
     "status": "completed"
    },
    "tags": []
   },
   "outputs": [],
   "source": [
    "import numpy as np\n",
    "import pandas as pd\n",
    "from sklearn.metrics import mean_absolute_error\n",
    "from sklearn.model_selection import train_test_split\n",
    "from sklearn.pipeline import Pipeline\n",
    "\n",
    "\n",
    "# Read the data\n",
    "X = pd.read_csv('../input/house-prices-advanced-regression-techniques/train.csv', index_col='Id')\n",
    "X_test_full = pd.read_csv('../input/house-prices-advanced-regression-techniques/train.csv', index_col='Id')\n",
    "\n",
    "# Remove rows with missing target & separate target from predictors\n",
    "X.dropna(axis=0, subset=['SalePrice'], inplace=True)\n",
    "y = X.SalePrice\n",
    "X.drop(['SalePrice'], axis=1, inplace=True)\n"
   ]
  },
  {
   "cell_type": "code",
   "execution_count": 2,
   "id": "77ab9a77",
   "metadata": {
    "execution": {
     "iopub.execute_input": "2023-11-28T20:58:39.815219Z",
     "iopub.status.busy": "2023-11-28T20:58:39.814820Z",
     "iopub.status.idle": "2023-11-28T20:58:39.822040Z",
     "shell.execute_reply": "2023-11-28T20:58:39.820784Z"
    },
    "papermill": {
     "duration": 0.014706,
     "end_time": "2023-11-28T20:58:39.825935",
     "exception": false,
     "start_time": "2023-11-28T20:58:39.811229",
     "status": "completed"
    },
    "tags": []
   },
   "outputs": [],
   "source": [
    "# Add initial helper function for estimating accuracy\n",
    "def get_score(pipeline, n_folds=3):\n",
    "    \"\"\"Return the average MAE over n_folds CV folds of XGBoost model.\n",
    "    \n",
    "    Keyword argument:\n",
    "    pipeline == a sklearn pipeline\n",
    "    n_folds == the number of CV folds\n",
    "    \"\"\"\n",
    "    scores = -1 * cross_val_score(pipeline, X, y, cv=n_folds, scoring='neg_mean_absolute_error')\n",
    "    return scores.mean()"
   ]
  }
 ],
 "metadata": {
  "kaggle": {
   "accelerator": "none",
   "dataSources": [
    {
     "databundleVersionId": 868283,
     "sourceId": 5407,
     "sourceType": "competition"
    }
   ],
   "dockerImageVersionId": 30587,
   "isGpuEnabled": false,
   "isInternetEnabled": true,
   "language": "python",
   "sourceType": "notebook"
  },
  "kernelspec": {
   "display_name": "Python 3",
   "language": "python",
   "name": "python3"
  },
  "language_info": {
   "codemirror_mode": {
    "name": "ipython",
    "version": 3
   },
   "file_extension": ".py",
   "mimetype": "text/x-python",
   "name": "python",
   "nbconvert_exporter": "python",
   "pygments_lexer": "ipython3",
   "version": "3.10.12"
  },
  "papermill": {
   "default_parameters": {},
   "duration": 6.352603,
   "end_time": "2023-11-28T20:58:40.450465",
   "environment_variables": {},
   "exception": null,
   "input_path": "__notebook__.ipynb",
   "output_path": "__notebook__.ipynb",
   "parameters": {},
   "start_time": "2023-11-28T20:58:34.097862",
   "version": "2.4.0"
  }
 },
 "nbformat": 4,
 "nbformat_minor": 5
}
